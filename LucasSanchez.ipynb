{
 "cells": [
  {
   "cell_type": "code",
   "execution_count": 4,
   "metadata": {},
   "outputs": [
    {
     "ename": "AttributeError",
     "evalue": "partially initialized module 'pandas' has no attribute 'core' (most likely due to a circular import)",
     "output_type": "error",
     "traceback": [
      "\u001b[1;31m---------------------------------------------------------------------------\u001b[0m",
      "\u001b[1;31mAttributeError\u001b[0m                            Traceback (most recent call last)",
      "\u001b[1;32mg:\\HENRY\\Labs\\Proyecto ML\\Datathon\\LucasSanchez.ipynb Celda 1\u001b[0m in \u001b[0;36m<cell line: 2>\u001b[1;34m()\u001b[0m\n\u001b[0;32m      <a href='vscode-notebook-cell:/g%3A/HENRY/Labs/Proyecto%20ML/Datathon/LucasSanchez.ipynb#W0sZmlsZQ%3D%3D?line=0'>1</a>\u001b[0m \u001b[39mimport\u001b[39;00m \u001b[39mnumpy\u001b[39;00m \u001b[39mas\u001b[39;00m \u001b[39mnp\u001b[39;00m\n\u001b[1;32m----> <a href='vscode-notebook-cell:/g%3A/HENRY/Labs/Proyecto%20ML/Datathon/LucasSanchez.ipynb#W0sZmlsZQ%3D%3D?line=1'>2</a>\u001b[0m \u001b[39mimport\u001b[39;00m \u001b[39mpandas\u001b[39;00m \u001b[39mas\u001b[39;00m \u001b[39mpd\u001b[39;00m\n",
      "File \u001b[1;32mc:\\Users\\Lucas\\AppData\\Local\\Programs\\Python\\Python310\\lib\\site-packages\\pandas\\__init__.py:135\u001b[0m, in \u001b[0;36m<module>\u001b[1;34m\u001b[0m\n\u001b[0;32m    117\u001b[0m \u001b[39mfrom\u001b[39;00m \u001b[39mpandas\u001b[39;00m\u001b[39m.\u001b[39;00m\u001b[39mcore\u001b[39;00m\u001b[39m.\u001b[39;00m\u001b[39mcomputation\u001b[39;00m\u001b[39m.\u001b[39;00m\u001b[39mapi\u001b[39;00m \u001b[39mimport\u001b[39;00m \u001b[39meval\u001b[39m\n\u001b[0;32m    119\u001b[0m \u001b[39mfrom\u001b[39;00m \u001b[39mpandas\u001b[39;00m\u001b[39m.\u001b[39;00m\u001b[39mcore\u001b[39;00m\u001b[39m.\u001b[39;00m\u001b[39mreshape\u001b[39;00m\u001b[39m.\u001b[39;00m\u001b[39mapi\u001b[39;00m \u001b[39mimport\u001b[39;00m (\n\u001b[0;32m    120\u001b[0m     concat,\n\u001b[0;32m    121\u001b[0m     lreshape,\n\u001b[1;32m   (...)\u001b[0m\n\u001b[0;32m    132\u001b[0m     qcut,\n\u001b[0;32m    133\u001b[0m )\n\u001b[1;32m--> 135\u001b[0m \u001b[39mfrom\u001b[39;00m \u001b[39mpandas\u001b[39;00m \u001b[39mimport\u001b[39;00m api, arrays, errors, io, plotting, testing, tseries\n\u001b[0;32m    136\u001b[0m \u001b[39mfrom\u001b[39;00m \u001b[39mpandas\u001b[39;00m\u001b[39m.\u001b[39;00m\u001b[39mutil\u001b[39;00m\u001b[39m.\u001b[39;00m\u001b[39m_print_versions\u001b[39;00m \u001b[39mimport\u001b[39;00m show_versions\n\u001b[0;32m    138\u001b[0m \u001b[39mfrom\u001b[39;00m \u001b[39mpandas\u001b[39;00m\u001b[39m.\u001b[39;00m\u001b[39mio\u001b[39;00m\u001b[39m.\u001b[39;00m\u001b[39mapi\u001b[39;00m \u001b[39mimport\u001b[39;00m (\n\u001b[0;32m    139\u001b[0m     \u001b[39m# excel\u001b[39;00m\n\u001b[0;32m    140\u001b[0m     ExcelFile,\n\u001b[1;32m   (...)\u001b[0m\n\u001b[0;32m    168\u001b[0m     read_spss,\n\u001b[0;32m    169\u001b[0m )\n",
      "File \u001b[1;32mc:\\Users\\Lucas\\AppData\\Local\\Programs\\Python\\Python310\\lib\\site-packages\\pandas\\testing.py:6\u001b[0m, in \u001b[0;36m<module>\u001b[1;34m\u001b[0m\n\u001b[0;32m      1\u001b[0m \u001b[39m\"\"\"\u001b[39;00m\n\u001b[0;32m      2\u001b[0m \u001b[39mPublic testing utility functions.\u001b[39;00m\n\u001b[0;32m      3\u001b[0m \u001b[39m\"\"\"\u001b[39;00m\n\u001b[1;32m----> 6\u001b[0m \u001b[39mfrom\u001b[39;00m \u001b[39mpandas\u001b[39;00m\u001b[39m.\u001b[39;00m\u001b[39m_testing\u001b[39;00m \u001b[39mimport\u001b[39;00m (\n\u001b[0;32m      7\u001b[0m     assert_extension_array_equal,\n\u001b[0;32m      8\u001b[0m     assert_frame_equal,\n\u001b[0;32m      9\u001b[0m     assert_index_equal,\n\u001b[0;32m     10\u001b[0m     assert_series_equal,\n\u001b[0;32m     11\u001b[0m )\n\u001b[0;32m     13\u001b[0m __all__ \u001b[39m=\u001b[39m [\n\u001b[0;32m     14\u001b[0m     \u001b[39m\"\u001b[39m\u001b[39massert_extension_array_equal\u001b[39m\u001b[39m\"\u001b[39m,\n\u001b[0;32m     15\u001b[0m     \u001b[39m\"\u001b[39m\u001b[39massert_frame_equal\u001b[39m\u001b[39m\"\u001b[39m,\n\u001b[0;32m     16\u001b[0m     \u001b[39m\"\u001b[39m\u001b[39massert_series_equal\u001b[39m\u001b[39m\"\u001b[39m,\n\u001b[0;32m     17\u001b[0m     \u001b[39m\"\u001b[39m\u001b[39massert_index_equal\u001b[39m\u001b[39m\"\u001b[39m,\n\u001b[0;32m     18\u001b[0m ]\n",
      "File \u001b[1;32mc:\\Users\\Lucas\\AppData\\Local\\Programs\\Python\\Python310\\lib\\site-packages\\pandas\\_testing\\__init__.py:979\u001b[0m, in \u001b[0;36m<module>\u001b[1;34m\u001b[0m\n\u001b[0;32m    974\u001b[0m     \u001b[39mimport\u001b[39;00m \u001b[39mpytest\u001b[39;00m\n\u001b[0;32m    976\u001b[0m     \u001b[39mreturn\u001b[39;00m pytest\u001b[39m.\u001b[39mraises(expected_exception, match\u001b[39m=\u001b[39m\u001b[39mNone\u001b[39;00m)  \u001b[39m# noqa: PDF010\u001b[39;00m\n\u001b[1;32m--> 979\u001b[0m cython_table \u001b[39m=\u001b[39m pd\u001b[39m.\u001b[39;49mcore\u001b[39m.\u001b[39mcommon\u001b[39m.\u001b[39m_cython_table\u001b[39m.\u001b[39mitems()\n\u001b[0;32m    982\u001b[0m \u001b[39mdef\u001b[39;00m \u001b[39mget_cython_table_params\u001b[39m(ndframe, func_names_and_expected):\n\u001b[0;32m    983\u001b[0m     \u001b[39m\"\"\"\u001b[39;00m\n\u001b[0;32m    984\u001b[0m \u001b[39m    Combine frame, functions from com._cython_table\u001b[39;00m\n\u001b[0;32m    985\u001b[0m \u001b[39m    keys and expected result.\u001b[39;00m\n\u001b[1;32m   (...)\u001b[0m\n\u001b[0;32m    997\u001b[0m \u001b[39m        List of three items (DataFrame, function, expected result)\u001b[39;00m\n\u001b[0;32m    998\u001b[0m \u001b[39m    \"\"\"\u001b[39;00m\n",
      "\u001b[1;31mAttributeError\u001b[0m: partially initialized module 'pandas' has no attribute 'core' (most likely due to a circular import)"
     ]
    }
   ],
   "source": [
    "import numpy as np\n",
    "import pandas as pd "
   ]
  },
  {
   "cell_type": "code",
   "execution_count": null,
   "metadata": {},
   "outputs": [],
   "source": [
    "df_train = pd.DataFrame(pd.read_excel(\"bike_train.xlsx\"))\n",
    "df_test = pd.DataFrame(pd.read_excel(\"bike_test.xlsx\"))"
   ]
  },
  {
   "cell_type": "code",
   "execution_count": null,
   "metadata": {},
   "outputs": [
    {
     "data": {
      "text/plain": [
       "count    11999.000000\n",
       "mean       158.594966\n",
       "std        151.392952\n",
       "min          1.000000\n",
       "25%         34.000000\n",
       "50%        118.000000\n",
       "75%        232.000000\n",
       "max        957.000000\n",
       "Name: cnt, dtype: float64"
      ]
     },
     "execution_count": 213,
     "metadata": {},
     "output_type": "execute_result"
    }
   ],
   "source": [
    "df_train['cnt'].describe()"
   ]
  },
  {
   "cell_type": "code",
   "execution_count": null,
   "metadata": {},
   "outputs": [
    {
     "data": {
      "text/html": [
       "<div>\n",
       "<style scoped>\n",
       "    .dataframe tbody tr th:only-of-type {\n",
       "        vertical-align: middle;\n",
       "    }\n",
       "\n",
       "    .dataframe tbody tr th {\n",
       "        vertical-align: top;\n",
       "    }\n",
       "\n",
       "    .dataframe thead th {\n",
       "        text-align: right;\n",
       "    }\n",
       "</style>\n",
       "<table border=\"1\" class=\"dataframe\">\n",
       "  <thead>\n",
       "    <tr style=\"text-align: right;\">\n",
       "      <th></th>\n",
       "      <th>instant</th>\n",
       "      <th>season</th>\n",
       "      <th>yr</th>\n",
       "      <th>mnth</th>\n",
       "      <th>hr</th>\n",
       "      <th>holiday</th>\n",
       "      <th>weekday</th>\n",
       "      <th>workingday</th>\n",
       "      <th>weathersit</th>\n",
       "      <th>temp</th>\n",
       "      <th>atemp</th>\n",
       "      <th>hum</th>\n",
       "      <th>windspeed</th>\n",
       "      <th>casual</th>\n",
       "      <th>registered</th>\n",
       "      <th>cnt</th>\n",
       "    </tr>\n",
       "  </thead>\n",
       "  <tbody>\n",
       "    <tr>\n",
       "      <th>instant</th>\n",
       "      <td>1.000000</td>\n",
       "      <td>0.118039</td>\n",
       "      <td>0.777284</td>\n",
       "      <td>0.167195</td>\n",
       "      <td>-0.007446</td>\n",
       "      <td>0.008323</td>\n",
       "      <td>0.007103</td>\n",
       "      <td>0.005295</td>\n",
       "      <td>-0.015359</td>\n",
       "      <td>0.029297</td>\n",
       "      <td>0.042490</td>\n",
       "      <td>-0.013275</td>\n",
       "      <td>-0.029001</td>\n",
       "      <td>0.115768</td>\n",
       "      <td>0.238546</td>\n",
       "      <td>0.229814</td>\n",
       "    </tr>\n",
       "    <tr>\n",
       "      <th>season</th>\n",
       "      <td>0.118039</td>\n",
       "      <td>1.000000</td>\n",
       "      <td>-0.446665</td>\n",
       "      <td>0.865268</td>\n",
       "      <td>-0.007610</td>\n",
       "      <td>-0.008928</td>\n",
       "      <td>-0.003688</td>\n",
       "      <td>0.012630</td>\n",
       "      <td>-0.009029</td>\n",
       "      <td>0.410790</td>\n",
       "      <td>0.413196</td>\n",
       "      <td>0.198937</td>\n",
       "      <td>-0.142924</td>\n",
       "      <td>0.119043</td>\n",
       "      <td>0.093595</td>\n",
       "      <td>0.111369</td>\n",
       "    </tr>\n",
       "    <tr>\n",
       "      <th>yr</th>\n",
       "      <td>0.777284</td>\n",
       "      <td>-0.446665</td>\n",
       "      <td>1.000000</td>\n",
       "      <td>-0.488103</td>\n",
       "      <td>-0.003948</td>\n",
       "      <td>0.001039</td>\n",
       "      <td>-0.002714</td>\n",
       "      <td>0.001068</td>\n",
       "      <td>-0.006309</td>\n",
       "      <td>-0.198929</td>\n",
       "      <td>-0.190360</td>\n",
       "      <td>-0.141319</td>\n",
       "      <td>0.067356</td>\n",
       "      <td>0.053371</td>\n",
       "      <td>0.171910</td>\n",
       "      <td>0.156960</td>\n",
       "    </tr>\n",
       "    <tr>\n",
       "      <th>mnth</th>\n",
       "      <td>0.167195</td>\n",
       "      <td>0.865268</td>\n",
       "      <td>-0.488103</td>\n",
       "      <td>1.000000</td>\n",
       "      <td>-0.007060</td>\n",
       "      <td>0.009372</td>\n",
       "      <td>0.014500</td>\n",
       "      <td>0.006441</td>\n",
       "      <td>-0.012239</td>\n",
       "      <td>0.353330</td>\n",
       "      <td>0.358541</td>\n",
       "      <td>0.201669</td>\n",
       "      <td>-0.147042</td>\n",
       "      <td>0.078563</td>\n",
       "      <td>0.061686</td>\n",
       "      <td>0.073431</td>\n",
       "    </tr>\n",
       "    <tr>\n",
       "      <th>hr</th>\n",
       "      <td>-0.007446</td>\n",
       "      <td>-0.007610</td>\n",
       "      <td>-0.003948</td>\n",
       "      <td>-0.007060</td>\n",
       "      <td>1.000000</td>\n",
       "      <td>0.000414</td>\n",
       "      <td>-0.004037</td>\n",
       "      <td>0.003454</td>\n",
       "      <td>-0.024003</td>\n",
       "      <td>0.139251</td>\n",
       "      <td>0.134633</td>\n",
       "      <td>-0.257202</td>\n",
       "      <td>0.130441</td>\n",
       "      <td>0.285182</td>\n",
       "      <td>0.381933</td>\n",
       "      <td>0.396698</td>\n",
       "    </tr>\n",
       "    <tr>\n",
       "      <th>holiday</th>\n",
       "      <td>0.008323</td>\n",
       "      <td>-0.008928</td>\n",
       "      <td>0.001039</td>\n",
       "      <td>0.009372</td>\n",
       "      <td>0.000414</td>\n",
       "      <td>1.000000</td>\n",
       "      <td>-0.102503</td>\n",
       "      <td>-0.248601</td>\n",
       "      <td>-0.014707</td>\n",
       "      <td>-0.028519</td>\n",
       "      <td>-0.038005</td>\n",
       "      <td>-0.036672</td>\n",
       "      <td>0.022681</td>\n",
       "      <td>0.022140</td>\n",
       "      <td>-0.044534</td>\n",
       "      <td>-0.030304</td>\n",
       "    </tr>\n",
       "    <tr>\n",
       "      <th>weekday</th>\n",
       "      <td>0.007103</td>\n",
       "      <td>-0.003688</td>\n",
       "      <td>-0.002714</td>\n",
       "      <td>0.014500</td>\n",
       "      <td>-0.004037</td>\n",
       "      <td>-0.102503</td>\n",
       "      <td>1.000000</td>\n",
       "      <td>0.031057</td>\n",
       "      <td>0.017259</td>\n",
       "      <td>-0.010002</td>\n",
       "      <td>-0.009841</td>\n",
       "      <td>-0.025932</td>\n",
       "      <td>0.008447</td>\n",
       "      <td>0.023687</td>\n",
       "      <td>0.019179</td>\n",
       "      <td>0.022618</td>\n",
       "    </tr>\n",
       "    <tr>\n",
       "      <th>workingday</th>\n",
       "      <td>0.005295</td>\n",
       "      <td>0.012630</td>\n",
       "      <td>0.001068</td>\n",
       "      <td>0.006441</td>\n",
       "      <td>0.003454</td>\n",
       "      <td>-0.248601</td>\n",
       "      <td>0.031057</td>\n",
       "      <td>1.000000</td>\n",
       "      <td>0.042202</td>\n",
       "      <td>0.062273</td>\n",
       "      <td>0.066305</td>\n",
       "      <td>0.022805</td>\n",
       "      <td>-0.002493</td>\n",
       "      <td>-0.298241</td>\n",
       "      <td>0.134789</td>\n",
       "      <td>0.025132</td>\n",
       "    </tr>\n",
       "    <tr>\n",
       "      <th>weathersit</th>\n",
       "      <td>-0.015359</td>\n",
       "      <td>-0.009029</td>\n",
       "      <td>-0.006309</td>\n",
       "      <td>-0.012239</td>\n",
       "      <td>-0.024003</td>\n",
       "      <td>-0.014707</td>\n",
       "      <td>0.017259</td>\n",
       "      <td>0.042202</td>\n",
       "      <td>1.000000</td>\n",
       "      <td>-0.080149</td>\n",
       "      <td>-0.081386</td>\n",
       "      <td>0.430378</td>\n",
       "      <td>0.009195</td>\n",
       "      <td>-0.147903</td>\n",
       "      <td>-0.130223</td>\n",
       "      <td>-0.149848</td>\n",
       "    </tr>\n",
       "    <tr>\n",
       "      <th>temp</th>\n",
       "      <td>0.029297</td>\n",
       "      <td>0.410790</td>\n",
       "      <td>-0.198929</td>\n",
       "      <td>0.353330</td>\n",
       "      <td>0.139251</td>\n",
       "      <td>-0.028519</td>\n",
       "      <td>-0.010002</td>\n",
       "      <td>0.062273</td>\n",
       "      <td>-0.080149</td>\n",
       "      <td>1.000000</td>\n",
       "      <td>0.991785</td>\n",
       "      <td>-0.019289</td>\n",
       "      <td>-0.013984</td>\n",
       "      <td>0.450777</td>\n",
       "      <td>0.322875</td>\n",
       "      <td>0.395743</td>\n",
       "    </tr>\n",
       "    <tr>\n",
       "      <th>atemp</th>\n",
       "      <td>0.042490</td>\n",
       "      <td>0.413196</td>\n",
       "      <td>-0.190360</td>\n",
       "      <td>0.358541</td>\n",
       "      <td>0.134633</td>\n",
       "      <td>-0.038005</td>\n",
       "      <td>-0.009841</td>\n",
       "      <td>0.066305</td>\n",
       "      <td>-0.081386</td>\n",
       "      <td>0.991785</td>\n",
       "      <td>1.000000</td>\n",
       "      <td>-0.003669</td>\n",
       "      <td>-0.057619</td>\n",
       "      <td>0.447899</td>\n",
       "      <td>0.323264</td>\n",
       "      <td>0.395234</td>\n",
       "    </tr>\n",
       "    <tr>\n",
       "      <th>hum</th>\n",
       "      <td>-0.013275</td>\n",
       "      <td>0.198937</td>\n",
       "      <td>-0.141319</td>\n",
       "      <td>0.201669</td>\n",
       "      <td>-0.257202</td>\n",
       "      <td>-0.036672</td>\n",
       "      <td>-0.025932</td>\n",
       "      <td>0.022805</td>\n",
       "      <td>0.430378</td>\n",
       "      <td>-0.019289</td>\n",
       "      <td>-0.003669</td>\n",
       "      <td>1.000000</td>\n",
       "      <td>-0.295765</td>\n",
       "      <td>-0.298354</td>\n",
       "      <td>-0.264382</td>\n",
       "      <td>-0.303672</td>\n",
       "    </tr>\n",
       "    <tr>\n",
       "      <th>windspeed</th>\n",
       "      <td>-0.029001</td>\n",
       "      <td>-0.142924</td>\n",
       "      <td>0.067356</td>\n",
       "      <td>-0.147042</td>\n",
       "      <td>0.130441</td>\n",
       "      <td>0.022681</td>\n",
       "      <td>0.008447</td>\n",
       "      <td>-0.002493</td>\n",
       "      <td>0.009195</td>\n",
       "      <td>-0.013984</td>\n",
       "      <td>-0.057619</td>\n",
       "      <td>-0.295765</td>\n",
       "      <td>1.000000</td>\n",
       "      <td>0.067061</td>\n",
       "      <td>0.091642</td>\n",
       "      <td>0.094791</td>\n",
       "    </tr>\n",
       "    <tr>\n",
       "      <th>casual</th>\n",
       "      <td>0.115768</td>\n",
       "      <td>0.119043</td>\n",
       "      <td>0.053371</td>\n",
       "      <td>0.078563</td>\n",
       "      <td>0.285182</td>\n",
       "      <td>0.022140</td>\n",
       "      <td>0.023687</td>\n",
       "      <td>-0.298241</td>\n",
       "      <td>-0.147903</td>\n",
       "      <td>0.450777</td>\n",
       "      <td>0.447899</td>\n",
       "      <td>-0.298354</td>\n",
       "      <td>0.067061</td>\n",
       "      <td>1.000000</td>\n",
       "      <td>0.503185</td>\n",
       "      <td>0.702414</td>\n",
       "    </tr>\n",
       "    <tr>\n",
       "      <th>registered</th>\n",
       "      <td>0.238546</td>\n",
       "      <td>0.093595</td>\n",
       "      <td>0.171910</td>\n",
       "      <td>0.061686</td>\n",
       "      <td>0.381933</td>\n",
       "      <td>-0.044534</td>\n",
       "      <td>0.019179</td>\n",
       "      <td>0.134789</td>\n",
       "      <td>-0.130223</td>\n",
       "      <td>0.322875</td>\n",
       "      <td>0.323264</td>\n",
       "      <td>-0.264382</td>\n",
       "      <td>0.091642</td>\n",
       "      <td>0.503185</td>\n",
       "      <td>1.000000</td>\n",
       "      <td>0.968540</td>\n",
       "    </tr>\n",
       "    <tr>\n",
       "      <th>cnt</th>\n",
       "      <td>0.229814</td>\n",
       "      <td>0.111369</td>\n",
       "      <td>0.156960</td>\n",
       "      <td>0.073431</td>\n",
       "      <td>0.396698</td>\n",
       "      <td>-0.030304</td>\n",
       "      <td>0.022618</td>\n",
       "      <td>0.025132</td>\n",
       "      <td>-0.149848</td>\n",
       "      <td>0.395743</td>\n",
       "      <td>0.395234</td>\n",
       "      <td>-0.303672</td>\n",
       "      <td>0.094791</td>\n",
       "      <td>0.702414</td>\n",
       "      <td>0.968540</td>\n",
       "      <td>1.000000</td>\n",
       "    </tr>\n",
       "  </tbody>\n",
       "</table>\n",
       "</div>"
      ],
      "text/plain": [
       "             instant    season        yr      mnth        hr   holiday  \\\n",
       "instant     1.000000  0.118039  0.777284  0.167195 -0.007446  0.008323   \n",
       "season      0.118039  1.000000 -0.446665  0.865268 -0.007610 -0.008928   \n",
       "yr          0.777284 -0.446665  1.000000 -0.488103 -0.003948  0.001039   \n",
       "mnth        0.167195  0.865268 -0.488103  1.000000 -0.007060  0.009372   \n",
       "hr         -0.007446 -0.007610 -0.003948 -0.007060  1.000000  0.000414   \n",
       "holiday     0.008323 -0.008928  0.001039  0.009372  0.000414  1.000000   \n",
       "weekday     0.007103 -0.003688 -0.002714  0.014500 -0.004037 -0.102503   \n",
       "workingday  0.005295  0.012630  0.001068  0.006441  0.003454 -0.248601   \n",
       "weathersit -0.015359 -0.009029 -0.006309 -0.012239 -0.024003 -0.014707   \n",
       "temp        0.029297  0.410790 -0.198929  0.353330  0.139251 -0.028519   \n",
       "atemp       0.042490  0.413196 -0.190360  0.358541  0.134633 -0.038005   \n",
       "hum        -0.013275  0.198937 -0.141319  0.201669 -0.257202 -0.036672   \n",
       "windspeed  -0.029001 -0.142924  0.067356 -0.147042  0.130441  0.022681   \n",
       "casual      0.115768  0.119043  0.053371  0.078563  0.285182  0.022140   \n",
       "registered  0.238546  0.093595  0.171910  0.061686  0.381933 -0.044534   \n",
       "cnt         0.229814  0.111369  0.156960  0.073431  0.396698 -0.030304   \n",
       "\n",
       "             weekday  workingday  weathersit      temp     atemp       hum  \\\n",
       "instant     0.007103    0.005295   -0.015359  0.029297  0.042490 -0.013275   \n",
       "season     -0.003688    0.012630   -0.009029  0.410790  0.413196  0.198937   \n",
       "yr         -0.002714    0.001068   -0.006309 -0.198929 -0.190360 -0.141319   \n",
       "mnth        0.014500    0.006441   -0.012239  0.353330  0.358541  0.201669   \n",
       "hr         -0.004037    0.003454   -0.024003  0.139251  0.134633 -0.257202   \n",
       "holiday    -0.102503   -0.248601   -0.014707 -0.028519 -0.038005 -0.036672   \n",
       "weekday     1.000000    0.031057    0.017259 -0.010002 -0.009841 -0.025932   \n",
       "workingday  0.031057    1.000000    0.042202  0.062273  0.066305  0.022805   \n",
       "weathersit  0.017259    0.042202    1.000000 -0.080149 -0.081386  0.430378   \n",
       "temp       -0.010002    0.062273   -0.080149  1.000000  0.991785 -0.019289   \n",
       "atemp      -0.009841    0.066305   -0.081386  0.991785  1.000000 -0.003669   \n",
       "hum        -0.025932    0.022805    0.430378 -0.019289 -0.003669  1.000000   \n",
       "windspeed   0.008447   -0.002493    0.009195 -0.013984 -0.057619 -0.295765   \n",
       "casual      0.023687   -0.298241   -0.147903  0.450777  0.447899 -0.298354   \n",
       "registered  0.019179    0.134789   -0.130223  0.322875  0.323264 -0.264382   \n",
       "cnt         0.022618    0.025132   -0.149848  0.395743  0.395234 -0.303672   \n",
       "\n",
       "            windspeed    casual  registered       cnt  \n",
       "instant     -0.029001  0.115768    0.238546  0.229814  \n",
       "season      -0.142924  0.119043    0.093595  0.111369  \n",
       "yr           0.067356  0.053371    0.171910  0.156960  \n",
       "mnth        -0.147042  0.078563    0.061686  0.073431  \n",
       "hr           0.130441  0.285182    0.381933  0.396698  \n",
       "holiday      0.022681  0.022140   -0.044534 -0.030304  \n",
       "weekday      0.008447  0.023687    0.019179  0.022618  \n",
       "workingday  -0.002493 -0.298241    0.134789  0.025132  \n",
       "weathersit   0.009195 -0.147903   -0.130223 -0.149848  \n",
       "temp        -0.013984  0.450777    0.322875  0.395743  \n",
       "atemp       -0.057619  0.447899    0.323264  0.395234  \n",
       "hum         -0.295765 -0.298354   -0.264382 -0.303672  \n",
       "windspeed    1.000000  0.067061    0.091642  0.094791  \n",
       "casual       0.067061  1.000000    0.503185  0.702414  \n",
       "registered   0.091642  0.503185    1.000000  0.968540  \n",
       "cnt          0.094791  0.702414    0.968540  1.000000  "
      ]
     },
     "execution_count": 3,
     "metadata": {},
     "output_type": "execute_result"
    }
   ],
   "source": [
    "df_train.corr()"
   ]
  },
  {
   "cell_type": "markdown",
   "metadata": {},
   "source": [
    "Basicamente lo que hice en las anteriores lineas de codigo fue analizar los datos para ver con cuales trabajare"
   ]
  },
  {
   "cell_type": "code",
   "execution_count": null,
   "metadata": {},
   "outputs": [],
   "source": [
    "X = df_train[['hr','temp','workingday','weekday']]\n",
    "y = df_train['cnt']\n",
    "\n",
    "from sklearn.preprocessing import MinMaxScaler\n",
    "\n",
    "scaler = MinMaxScaler()\n",
    "X_scaled = scaler.fit_transform(X) \n",
    "y = y.values.reshape(-1, 1)\n",
    "y_scaled = scaler.fit_transform(y)"
   ]
  },
  {
   "cell_type": "code",
   "execution_count": 1,
   "metadata": {},
   "outputs": [
    {
     "ename": "KeyboardInterrupt",
     "evalue": "",
     "output_type": "error",
     "traceback": [
      "\u001b[1;31m---------------------------------------------------------------------------\u001b[0m",
      "\u001b[1;31mKeyboardInterrupt\u001b[0m                         Traceback (most recent call last)",
      "\u001b[1;32mg:\\HENRY\\Labs\\Proyecto ML\\Datathon\\LucasSanchez.ipynb Celda 7\u001b[0m in \u001b[0;36m<cell line: 1>\u001b[1;34m()\u001b[0m\n\u001b[1;32m----> <a href='vscode-notebook-cell:/g%3A/HENRY/Labs/Proyecto%20ML/Datathon/LucasSanchez.ipynb#W6sZmlsZQ%3D%3D?line=0'>1</a>\u001b[0m \u001b[39mimport\u001b[39;00m \u001b[39mtensorflow\u001b[39;00m \u001b[39mas\u001b[39;00m \u001b[39mtf\u001b[39;00m\n\u001b[0;32m      <a href='vscode-notebook-cell:/g%3A/HENRY/Labs/Proyecto%20ML/Datathon/LucasSanchez.ipynb#W6sZmlsZQ%3D%3D?line=2'>3</a>\u001b[0m model \u001b[39m=\u001b[39m tf\u001b[39m.\u001b[39mkeras\u001b[39m.\u001b[39mSequential()\n\u001b[0;32m      <a href='vscode-notebook-cell:/g%3A/HENRY/Labs/Proyecto%20ML/Datathon/LucasSanchez.ipynb#W6sZmlsZQ%3D%3D?line=3'>4</a>\u001b[0m model\u001b[39m.\u001b[39madd(tf\u001b[39m.\u001b[39mkeras\u001b[39m.\u001b[39mlayers\u001b[39m.\u001b[39mDense(units\u001b[39m=\u001b[39m\u001b[39m100\u001b[39m ,activation\u001b[39m=\u001b[39m\u001b[39m'\u001b[39m\u001b[39mrelu\u001b[39m\u001b[39m'\u001b[39m,input_shape\u001b[39m=\u001b[39m(\u001b[39m4\u001b[39m, )))\n",
      "File \u001b[1;32mc:\\Users\\Lucas\\AppData\\Local\\Programs\\Python\\Python310\\lib\\site-packages\\tensorflow\\__init__.py:469\u001b[0m, in \u001b[0;36m<module>\u001b[1;34m\u001b[0m\n\u001b[0;32m    467\u001b[0m \u001b[39mif\u001b[39;00m \u001b[39mhasattr\u001b[39m(_current_module, \u001b[39m\"\u001b[39m\u001b[39mkeras\u001b[39m\u001b[39m\"\u001b[39m):\n\u001b[0;32m    468\u001b[0m   \u001b[39mtry\u001b[39;00m:\n\u001b[1;32m--> 469\u001b[0m     _keras\u001b[39m.\u001b[39;49m_load()\n\u001b[0;32m    470\u001b[0m   \u001b[39mexcept\u001b[39;00m \u001b[39mImportError\u001b[39;00m:\n\u001b[0;32m    471\u001b[0m     \u001b[39mpass\u001b[39;00m\n",
      "File \u001b[1;32mc:\\Users\\Lucas\\AppData\\Local\\Programs\\Python\\Python310\\lib\\site-packages\\tensorflow\\python\\util\\lazy_loader.py:41\u001b[0m, in \u001b[0;36mLazyLoader._load\u001b[1;34m(self)\u001b[0m\n\u001b[0;32m     39\u001b[0m \u001b[39m\"\"\"Load the module and insert it into the parent's globals.\"\"\"\u001b[39;00m\n\u001b[0;32m     40\u001b[0m \u001b[39m# Import the target module and insert it into the parent's namespace\u001b[39;00m\n\u001b[1;32m---> 41\u001b[0m module \u001b[39m=\u001b[39m importlib\u001b[39m.\u001b[39;49mimport_module(\u001b[39mself\u001b[39;49m\u001b[39m.\u001b[39;49m\u001b[39m__name__\u001b[39;49m)\n\u001b[0;32m     42\u001b[0m \u001b[39mself\u001b[39m\u001b[39m.\u001b[39m_parent_module_globals[\u001b[39mself\u001b[39m\u001b[39m.\u001b[39m_local_name] \u001b[39m=\u001b[39m module\n\u001b[0;32m     44\u001b[0m \u001b[39m# Emit a warning if one was specified\u001b[39;00m\n",
      "File \u001b[1;32mc:\\Users\\Lucas\\AppData\\Local\\Programs\\Python\\Python310\\lib\\importlib\\__init__.py:126\u001b[0m, in \u001b[0;36mimport_module\u001b[1;34m(name, package)\u001b[0m\n\u001b[0;32m    124\u001b[0m             \u001b[39mbreak\u001b[39;00m\n\u001b[0;32m    125\u001b[0m         level \u001b[39m+\u001b[39m\u001b[39m=\u001b[39m \u001b[39m1\u001b[39m\n\u001b[1;32m--> 126\u001b[0m \u001b[39mreturn\u001b[39;00m _bootstrap\u001b[39m.\u001b[39;49m_gcd_import(name[level:], package, level)\n",
      "File \u001b[1;32mc:\\Users\\Lucas\\AppData\\Local\\Programs\\Python\\Python310\\lib\\site-packages\\keras\\__init__.py:21\u001b[0m, in \u001b[0;36m<module>\u001b[1;34m\u001b[0m\n\u001b[0;32m     15\u001b[0m \u001b[39m\"\"\"Implementation of the Keras API, the high-level API of TensorFlow.\u001b[39;00m\n\u001b[0;32m     16\u001b[0m \n\u001b[0;32m     17\u001b[0m \u001b[39mDetailed documentation and user guides are available at\u001b[39;00m\n\u001b[0;32m     18\u001b[0m \u001b[39m[keras.io](https://keras.io).\u001b[39;00m\n\u001b[0;32m     19\u001b[0m \u001b[39m\"\"\"\u001b[39;00m\n\u001b[0;32m     20\u001b[0m \u001b[39mfrom\u001b[39;00m \u001b[39mkeras\u001b[39;00m \u001b[39mimport\u001b[39;00m distribute\n\u001b[1;32m---> 21\u001b[0m \u001b[39mfrom\u001b[39;00m \u001b[39mkeras\u001b[39;00m \u001b[39mimport\u001b[39;00m models\n\u001b[0;32m     22\u001b[0m \u001b[39mfrom\u001b[39;00m \u001b[39mkeras\u001b[39;00m\u001b[39m.\u001b[39;00m\u001b[39mengine\u001b[39;00m\u001b[39m.\u001b[39;00m\u001b[39minput_layer\u001b[39;00m \u001b[39mimport\u001b[39;00m Input\n\u001b[0;32m     23\u001b[0m \u001b[39mfrom\u001b[39;00m \u001b[39mkeras\u001b[39;00m\u001b[39m.\u001b[39;00m\u001b[39mengine\u001b[39;00m\u001b[39m.\u001b[39;00m\u001b[39msequential\u001b[39;00m \u001b[39mimport\u001b[39;00m Sequential\n",
      "File \u001b[1;32mc:\\Users\\Lucas\\AppData\\Local\\Programs\\Python\\Python310\\lib\\site-packages\\keras\\models\\__init__.py:18\u001b[0m, in \u001b[0;36m<module>\u001b[1;34m\u001b[0m\n\u001b[0;32m      1\u001b[0m \u001b[39m# Copyright 2022 The TensorFlow Authors. All Rights Reserved.\u001b[39;00m\n\u001b[0;32m      2\u001b[0m \u001b[39m#\u001b[39;00m\n\u001b[0;32m      3\u001b[0m \u001b[39m# Licensed under the Apache License, Version 2.0 (the \"License\");\u001b[39;00m\n\u001b[1;32m   (...)\u001b[0m\n\u001b[0;32m     13\u001b[0m \u001b[39m# limitations under the License.\u001b[39;00m\n\u001b[0;32m     14\u001b[0m \u001b[39m# ==============================================================================\u001b[39;00m\n\u001b[0;32m     15\u001b[0m \u001b[39m\"\"\"Keras models API.\"\"\"\u001b[39;00m\n\u001b[1;32m---> 18\u001b[0m \u001b[39mfrom\u001b[39;00m \u001b[39mkeras\u001b[39;00m\u001b[39m.\u001b[39;00m\u001b[39mengine\u001b[39;00m\u001b[39m.\u001b[39;00m\u001b[39mfunctional\u001b[39;00m \u001b[39mimport\u001b[39;00m Functional\n\u001b[0;32m     19\u001b[0m \u001b[39mfrom\u001b[39;00m \u001b[39mkeras\u001b[39;00m\u001b[39m.\u001b[39;00m\u001b[39mengine\u001b[39;00m\u001b[39m.\u001b[39;00m\u001b[39msequential\u001b[39;00m \u001b[39mimport\u001b[39;00m Sequential\n\u001b[0;32m     20\u001b[0m \u001b[39mfrom\u001b[39;00m \u001b[39mkeras\u001b[39;00m\u001b[39m.\u001b[39;00m\u001b[39mengine\u001b[39;00m\u001b[39m.\u001b[39;00m\u001b[39mtraining\u001b[39;00m \u001b[39mimport\u001b[39;00m Model\n",
      "File \u001b[1;32mc:\\Users\\Lucas\\AppData\\Local\\Programs\\Python\\Python310\\lib\\site-packages\\keras\\engine\\functional.py:34\u001b[0m, in \u001b[0;36m<module>\u001b[1;34m\u001b[0m\n\u001b[0;32m     32\u001b[0m \u001b[39mfrom\u001b[39;00m \u001b[39mkeras\u001b[39;00m\u001b[39m.\u001b[39;00m\u001b[39mengine\u001b[39;00m \u001b[39mimport\u001b[39;00m input_spec\n\u001b[0;32m     33\u001b[0m \u001b[39mfrom\u001b[39;00m \u001b[39mkeras\u001b[39;00m\u001b[39m.\u001b[39;00m\u001b[39mengine\u001b[39;00m \u001b[39mimport\u001b[39;00m node \u001b[39mas\u001b[39;00m node_module\n\u001b[1;32m---> 34\u001b[0m \u001b[39mfrom\u001b[39;00m \u001b[39mkeras\u001b[39;00m\u001b[39m.\u001b[39;00m\u001b[39mengine\u001b[39;00m \u001b[39mimport\u001b[39;00m training \u001b[39mas\u001b[39;00m training_lib\n\u001b[0;32m     35\u001b[0m \u001b[39mfrom\u001b[39;00m \u001b[39mkeras\u001b[39;00m\u001b[39m.\u001b[39;00m\u001b[39mengine\u001b[39;00m \u001b[39mimport\u001b[39;00m training_utils\n\u001b[0;32m     36\u001b[0m \u001b[39mfrom\u001b[39;00m \u001b[39mkeras\u001b[39;00m\u001b[39m.\u001b[39;00m\u001b[39msaving\u001b[39;00m\u001b[39m.\u001b[39;00m\u001b[39msaved_model\u001b[39;00m \u001b[39mimport\u001b[39;00m json_utils\n",
      "File \u001b[1;32mc:\\Users\\Lucas\\AppData\\Local\\Programs\\Python\\Python310\\lib\\site-packages\\keras\\engine\\training.py:33\u001b[0m, in \u001b[0;36m<module>\u001b[1;34m\u001b[0m\n\u001b[0;32m     31\u001b[0m \u001b[39mfrom\u001b[39;00m \u001b[39mkeras\u001b[39;00m\u001b[39m.\u001b[39;00m\u001b[39mengine\u001b[39;00m \u001b[39mimport\u001b[39;00m base_layer\n\u001b[0;32m     32\u001b[0m \u001b[39mfrom\u001b[39;00m \u001b[39mkeras\u001b[39;00m\u001b[39m.\u001b[39;00m\u001b[39mengine\u001b[39;00m \u001b[39mimport\u001b[39;00m base_layer_utils\n\u001b[1;32m---> 33\u001b[0m \u001b[39mfrom\u001b[39;00m \u001b[39mkeras\u001b[39;00m\u001b[39m.\u001b[39;00m\u001b[39mengine\u001b[39;00m \u001b[39mimport\u001b[39;00m compile_utils\n\u001b[0;32m     34\u001b[0m \u001b[39mfrom\u001b[39;00m \u001b[39mkeras\u001b[39;00m\u001b[39m.\u001b[39;00m\u001b[39mengine\u001b[39;00m \u001b[39mimport\u001b[39;00m data_adapter\n\u001b[0;32m     35\u001b[0m \u001b[39mfrom\u001b[39;00m \u001b[39mkeras\u001b[39;00m\u001b[39m.\u001b[39;00m\u001b[39mengine\u001b[39;00m \u001b[39mimport\u001b[39;00m input_layer \u001b[39mas\u001b[39;00m input_layer_module\n",
      "File \u001b[1;32mc:\\Users\\Lucas\\AppData\\Local\\Programs\\Python\\Python310\\lib\\site-packages\\keras\\engine\\compile_utils.py:24\u001b[0m, in \u001b[0;36m<module>\u001b[1;34m\u001b[0m\n\u001b[0;32m     21\u001b[0m \u001b[39mimport\u001b[39;00m \u001b[39mtensorflow\u001b[39;00m\u001b[39m.\u001b[39;00m\u001b[39mcompat\u001b[39;00m\u001b[39m.\u001b[39;00m\u001b[39mv2\u001b[39;00m \u001b[39mas\u001b[39;00m \u001b[39mtf\u001b[39;00m\n\u001b[0;32m     23\u001b[0m \u001b[39mfrom\u001b[39;00m \u001b[39mkeras\u001b[39;00m \u001b[39mimport\u001b[39;00m losses \u001b[39mas\u001b[39;00m losses_mod\n\u001b[1;32m---> 24\u001b[0m \u001b[39mfrom\u001b[39;00m \u001b[39mkeras\u001b[39;00m \u001b[39mimport\u001b[39;00m metrics \u001b[39mas\u001b[39;00m metrics_mod\n\u001b[0;32m     25\u001b[0m \u001b[39mfrom\u001b[39;00m \u001b[39mkeras\u001b[39;00m\u001b[39m.\u001b[39;00m\u001b[39msaving\u001b[39;00m\u001b[39m.\u001b[39;00m\u001b[39mexperimental\u001b[39;00m \u001b[39mimport\u001b[39;00m saving_lib\n\u001b[0;32m     26\u001b[0m \u001b[39mfrom\u001b[39;00m \u001b[39mkeras\u001b[39;00m\u001b[39m.\u001b[39;00m\u001b[39mutils\u001b[39;00m \u001b[39mimport\u001b[39;00m generic_utils\n",
      "File \u001b[1;32mc:\\Users\\Lucas\\AppData\\Local\\Programs\\Python\\Python310\\lib\\site-packages\\keras\\metrics\\__init__.py:33\u001b[0m, in \u001b[0;36m<module>\u001b[1;34m\u001b[0m\n\u001b[0;32m     29\u001b[0m \u001b[39mfrom\u001b[39;00m \u001b[39mkeras\u001b[39;00m\u001b[39m.\u001b[39;00m\u001b[39mmetrics\u001b[39;00m\u001b[39m.\u001b[39;00m\u001b[39mbase_metric\u001b[39;00m \u001b[39mimport\u001b[39;00m clone_metrics\n\u001b[0;32m     31\u001b[0m \u001b[39m# Metric functions\u001b[39;00m\n\u001b[0;32m     32\u001b[0m \u001b[39m# Individual metric classes\u001b[39;00m\n\u001b[1;32m---> 33\u001b[0m \u001b[39mfrom\u001b[39;00m \u001b[39mkeras\u001b[39;00m\u001b[39m.\u001b[39;00m\u001b[39mmetrics\u001b[39;00m\u001b[39m.\u001b[39;00m\u001b[39mmetrics\u001b[39;00m \u001b[39mimport\u001b[39;00m AUC\n\u001b[0;32m     34\u001b[0m \u001b[39mfrom\u001b[39;00m \u001b[39mkeras\u001b[39;00m\u001b[39m.\u001b[39;00m\u001b[39mmetrics\u001b[39;00m\u001b[39m.\u001b[39;00m\u001b[39mmetrics\u001b[39;00m \u001b[39mimport\u001b[39;00m Accuracy\n\u001b[0;32m     35\u001b[0m \u001b[39mfrom\u001b[39;00m \u001b[39mkeras\u001b[39;00m\u001b[39m.\u001b[39;00m\u001b[39mmetrics\u001b[39;00m\u001b[39m.\u001b[39;00m\u001b[39mmetrics\u001b[39;00m \u001b[39mimport\u001b[39;00m BinaryAccuracy\n",
      "File \u001b[1;32mc:\\Users\\Lucas\\AppData\\Local\\Programs\\Python\\Python310\\lib\\site-packages\\keras\\metrics\\metrics.py:28\u001b[0m, in \u001b[0;36m<module>\u001b[1;34m\u001b[0m\n\u001b[0;32m     25\u001b[0m \u001b[39mimport\u001b[39;00m \u001b[39mnumpy\u001b[39;00m \u001b[39mas\u001b[39;00m \u001b[39mnp\u001b[39;00m\n\u001b[0;32m     26\u001b[0m \u001b[39mimport\u001b[39;00m \u001b[39mtensorflow\u001b[39;00m\u001b[39m.\u001b[39;00m\u001b[39mcompat\u001b[39;00m\u001b[39m.\u001b[39;00m\u001b[39mv2\u001b[39;00m \u001b[39mas\u001b[39;00m \u001b[39mtf\u001b[39;00m\n\u001b[1;32m---> 28\u001b[0m \u001b[39mfrom\u001b[39;00m \u001b[39mkeras\u001b[39;00m \u001b[39mimport\u001b[39;00m activations\n\u001b[0;32m     29\u001b[0m \u001b[39mfrom\u001b[39;00m \u001b[39mkeras\u001b[39;00m \u001b[39mimport\u001b[39;00m backend\n\u001b[0;32m     30\u001b[0m \u001b[39mfrom\u001b[39;00m \u001b[39mkeras\u001b[39;00m\u001b[39m.\u001b[39;00m\u001b[39mdtensor\u001b[39;00m \u001b[39mimport\u001b[39;00m utils \u001b[39mas\u001b[39;00m dtensor_utils\n",
      "File \u001b[1;32mc:\\Users\\Lucas\\AppData\\Local\\Programs\\Python\\Python310\\lib\\site-packages\\keras\\activations.py:21\u001b[0m, in \u001b[0;36m<module>\u001b[1;34m\u001b[0m\n\u001b[0;32m     17\u001b[0m \u001b[39mimport\u001b[39;00m \u001b[39msys\u001b[39;00m\n\u001b[0;32m     19\u001b[0m \u001b[39mimport\u001b[39;00m \u001b[39mtensorflow\u001b[39;00m\u001b[39m.\u001b[39;00m\u001b[39mcompat\u001b[39;00m\u001b[39m.\u001b[39;00m\u001b[39mv2\u001b[39;00m \u001b[39mas\u001b[39;00m \u001b[39mtf\u001b[39;00m\n\u001b[1;32m---> 21\u001b[0m \u001b[39mimport\u001b[39;00m \u001b[39mkeras\u001b[39;00m\u001b[39m.\u001b[39;00m\u001b[39mlayers\u001b[39;00m\u001b[39m.\u001b[39;00m\u001b[39mactivation\u001b[39;00m \u001b[39mas\u001b[39;00m \u001b[39mactivation_layers\u001b[39;00m\n\u001b[0;32m     22\u001b[0m \u001b[39mfrom\u001b[39;00m \u001b[39mkeras\u001b[39;00m \u001b[39mimport\u001b[39;00m backend\n\u001b[0;32m     23\u001b[0m \u001b[39mfrom\u001b[39;00m \u001b[39mkeras\u001b[39;00m\u001b[39m.\u001b[39;00m\u001b[39mutils\u001b[39;00m \u001b[39mimport\u001b[39;00m generic_utils\n",
      "File \u001b[1;32mc:\\Users\\Lucas\\AppData\\Local\\Programs\\Python\\Python310\\lib\\site-packages\\keras\\layers\\__init__.py:20\u001b[0m, in \u001b[0;36m<module>\u001b[1;34m\u001b[0m\n\u001b[0;32m     17\u001b[0m \u001b[39mimport\u001b[39;00m \u001b[39mtensorflow\u001b[39;00m\u001b[39m.\u001b[39;00m\u001b[39mcompat\u001b[39;00m\u001b[39m.\u001b[39;00m\u001b[39mv2\u001b[39;00m \u001b[39mas\u001b[39;00m \u001b[39mtf\u001b[39;00m\n\u001b[0;32m     19\u001b[0m \u001b[39mfrom\u001b[39;00m \u001b[39mkeras\u001b[39;00m\u001b[39m.\u001b[39;00m\u001b[39mengine\u001b[39;00m\u001b[39m.\u001b[39;00m\u001b[39mbase_layer\u001b[39;00m \u001b[39mimport\u001b[39;00m Layer\n\u001b[1;32m---> 20\u001b[0m \u001b[39mfrom\u001b[39;00m \u001b[39mkeras\u001b[39;00m\u001b[39m.\u001b[39;00m\u001b[39mengine\u001b[39;00m\u001b[39m.\u001b[39;00m\u001b[39mbase_preprocessing_layer\u001b[39;00m \u001b[39mimport\u001b[39;00m PreprocessingLayer\n\u001b[0;32m     22\u001b[0m \u001b[39m# Generic layers.\u001b[39;00m\n\u001b[0;32m     23\u001b[0m \u001b[39mfrom\u001b[39;00m \u001b[39mkeras\u001b[39;00m\u001b[39m.\u001b[39;00m\u001b[39mengine\u001b[39;00m\u001b[39m.\u001b[39;00m\u001b[39minput_layer\u001b[39;00m \u001b[39mimport\u001b[39;00m Input\n",
      "File \u001b[1;32mc:\\Users\\Lucas\\AppData\\Local\\Programs\\Python\\Python310\\lib\\site-packages\\keras\\engine\\base_preprocessing_layer.py:21\u001b[0m, in \u001b[0;36m<module>\u001b[1;34m\u001b[0m\n\u001b[0;32m     17\u001b[0m \u001b[39mimport\u001b[39;00m \u001b[39mabc\u001b[39;00m\n\u001b[0;32m     19\u001b[0m \u001b[39mimport\u001b[39;00m \u001b[39mtensorflow\u001b[39;00m\u001b[39m.\u001b[39;00m\u001b[39mcompat\u001b[39;00m\u001b[39m.\u001b[39;00m\u001b[39mv2\u001b[39;00m \u001b[39mas\u001b[39;00m \u001b[39mtf\u001b[39;00m\n\u001b[1;32m---> 21\u001b[0m \u001b[39mfrom\u001b[39;00m \u001b[39mkeras\u001b[39;00m\u001b[39m.\u001b[39;00m\u001b[39mengine\u001b[39;00m \u001b[39mimport\u001b[39;00m data_adapter\n\u001b[0;32m     22\u001b[0m \u001b[39mfrom\u001b[39;00m \u001b[39mkeras\u001b[39;00m\u001b[39m.\u001b[39;00m\u001b[39mengine\u001b[39;00m\u001b[39m.\u001b[39;00m\u001b[39mbase_layer\u001b[39;00m \u001b[39mimport\u001b[39;00m Layer\n\u001b[0;32m     23\u001b[0m \u001b[39mfrom\u001b[39;00m \u001b[39mkeras\u001b[39;00m\u001b[39m.\u001b[39;00m\u001b[39mutils\u001b[39;00m \u001b[39mimport\u001b[39;00m version_utils\n",
      "File \u001b[1;32mc:\\Users\\Lucas\\AppData\\Local\\Programs\\Python\\Python310\\lib\\site-packages\\keras\\engine\\data_adapter.py:43\u001b[0m, in \u001b[0;36m<module>\u001b[1;34m\u001b[0m\n\u001b[0;32m     40\u001b[0m \u001b[39mfrom\u001b[39;00m \u001b[39mtensorflow\u001b[39;00m\u001b[39m.\u001b[39;00m\u001b[39mpython\u001b[39;00m\u001b[39m.\u001b[39;00m\u001b[39mutil\u001b[39;00m\u001b[39m.\u001b[39;00m\u001b[39mtf_export\u001b[39;00m \u001b[39mimport\u001b[39;00m keras_export\n\u001b[0;32m     42\u001b[0m \u001b[39mtry\u001b[39;00m:\n\u001b[1;32m---> 43\u001b[0m     \u001b[39mimport\u001b[39;00m \u001b[39mpandas\u001b[39;00m \u001b[39mas\u001b[39;00m \u001b[39mpd\u001b[39;00m\n\u001b[0;32m     44\u001b[0m \u001b[39mexcept\u001b[39;00m \u001b[39mImportError\u001b[39;00m:\n\u001b[0;32m     45\u001b[0m     pd \u001b[39m=\u001b[39m \u001b[39mNone\u001b[39;00m\n",
      "File \u001b[1;32mc:\\Users\\Lucas\\AppData\\Local\\Programs\\Python\\Python310\\lib\\site-packages\\pandas\\__init__.py:22\u001b[0m, in \u001b[0;36m<module>\u001b[1;34m\u001b[0m\n\u001b[0;32m     19\u001b[0m \u001b[39mdel\u001b[39;00m hard_dependencies, dependency, missing_dependencies\n\u001b[0;32m     21\u001b[0m \u001b[39m# numpy compat\u001b[39;00m\n\u001b[1;32m---> 22\u001b[0m \u001b[39mfrom\u001b[39;00m \u001b[39mpandas\u001b[39;00m\u001b[39m.\u001b[39;00m\u001b[39mcompat\u001b[39;00m \u001b[39mimport\u001b[39;00m is_numpy_dev \u001b[39mas\u001b[39;00m _is_numpy_dev\n\u001b[0;32m     24\u001b[0m \u001b[39mtry\u001b[39;00m:\n\u001b[0;32m     25\u001b[0m     \u001b[39mfrom\u001b[39;00m \u001b[39mpandas\u001b[39;00m\u001b[39m.\u001b[39;00m\u001b[39m_libs\u001b[39;00m \u001b[39mimport\u001b[39;00m hashtable \u001b[39mas\u001b[39;00m _hashtable, lib \u001b[39mas\u001b[39;00m _lib, tslib \u001b[39mas\u001b[39;00m _tslib\n",
      "File \u001b[1;32mc:\\Users\\Lucas\\AppData\\Local\\Programs\\Python\\Python310\\lib\\site-packages\\pandas\\compat\\__init__.py:20\u001b[0m, in \u001b[0;36m<module>\u001b[1;34m\u001b[0m\n\u001b[0;32m     14\u001b[0m \u001b[39mfrom\u001b[39;00m \u001b[39mpandas\u001b[39;00m\u001b[39m.\u001b[39;00m\u001b[39m_typing\u001b[39;00m \u001b[39mimport\u001b[39;00m F\n\u001b[0;32m     15\u001b[0m \u001b[39mfrom\u001b[39;00m \u001b[39mpandas\u001b[39;00m\u001b[39m.\u001b[39;00m\u001b[39mcompat\u001b[39;00m\u001b[39m.\u001b[39;00m\u001b[39mnumpy\u001b[39;00m \u001b[39mimport\u001b[39;00m (\n\u001b[0;32m     16\u001b[0m     is_numpy_dev,\n\u001b[0;32m     17\u001b[0m     np_version_under1p19,\n\u001b[0;32m     18\u001b[0m     np_version_under1p20,\n\u001b[0;32m     19\u001b[0m )\n\u001b[1;32m---> 20\u001b[0m \u001b[39mfrom\u001b[39;00m \u001b[39mpandas\u001b[39;00m\u001b[39m.\u001b[39;00m\u001b[39mcompat\u001b[39;00m\u001b[39m.\u001b[39;00m\u001b[39mpyarrow\u001b[39;00m \u001b[39mimport\u001b[39;00m (\n\u001b[0;32m     21\u001b[0m     pa_version_under1p01,\n\u001b[0;32m     22\u001b[0m     pa_version_under2p0,\n\u001b[0;32m     23\u001b[0m     pa_version_under3p0,\n\u001b[0;32m     24\u001b[0m     pa_version_under4p0,\n\u001b[0;32m     25\u001b[0m )\n\u001b[0;32m     27\u001b[0m PY39 \u001b[39m=\u001b[39m sys\u001b[39m.\u001b[39mversion_info \u001b[39m>\u001b[39m\u001b[39m=\u001b[39m (\u001b[39m3\u001b[39m, \u001b[39m9\u001b[39m)\n\u001b[0;32m     28\u001b[0m PY310 \u001b[39m=\u001b[39m sys\u001b[39m.\u001b[39mversion_info \u001b[39m>\u001b[39m\u001b[39m=\u001b[39m (\u001b[39m3\u001b[39m, \u001b[39m10\u001b[39m)\n",
      "File \u001b[1;32mc:\\Users\\Lucas\\AppData\\Local\\Programs\\Python\\Python310\\lib\\site-packages\\pandas\\compat\\pyarrow.py:6\u001b[0m, in \u001b[0;36m<module>\u001b[1;34m\u001b[0m\n\u001b[0;32m      3\u001b[0m \u001b[39mfrom\u001b[39;00m \u001b[39mpandas\u001b[39;00m\u001b[39m.\u001b[39;00m\u001b[39mutil\u001b[39;00m\u001b[39m.\u001b[39;00m\u001b[39mversion\u001b[39;00m \u001b[39mimport\u001b[39;00m Version\n\u001b[0;32m      5\u001b[0m \u001b[39mtry\u001b[39;00m:\n\u001b[1;32m----> 6\u001b[0m     \u001b[39mimport\u001b[39;00m \u001b[39mpyarrow\u001b[39;00m \u001b[39mas\u001b[39;00m \u001b[39mpa\u001b[39;00m\n\u001b[0;32m      8\u001b[0m     _pa_version \u001b[39m=\u001b[39m pa\u001b[39m.\u001b[39m__version__\n\u001b[0;32m      9\u001b[0m     _palv \u001b[39m=\u001b[39m Version(_pa_version)\n",
      "File \u001b[1;32mc:\\Users\\Lucas\\AppData\\Local\\Programs\\Python\\Python310\\lib\\site-packages\\pyarrow\\__init__.py:285\u001b[0m, in \u001b[0;36m<module>\u001b[1;34m\u001b[0m\n\u001b[0;32m    279\u001b[0m \u001b[39mimport\u001b[39;00m \u001b[39mpyarrow\u001b[39;00m\u001b[39m.\u001b[39;00m\u001b[39mipc\u001b[39;00m \u001b[39mas\u001b[39;00m \u001b[39mipc\u001b[39;00m\n\u001b[0;32m    281\u001b[0m \u001b[39mfrom\u001b[39;00m \u001b[39mpyarrow\u001b[39;00m\u001b[39m.\u001b[39;00m\u001b[39mserialization\u001b[39;00m \u001b[39mimport\u001b[39;00m (default_serialization_context,\n\u001b[0;32m    282\u001b[0m                                    register_default_serialization_handlers,\n\u001b[0;32m    283\u001b[0m                                    register_torch_serialization_handlers)\n\u001b[1;32m--> 285\u001b[0m \u001b[39mimport\u001b[39;00m \u001b[39mpyarrow\u001b[39;00m\u001b[39m.\u001b[39;00m\u001b[39mtypes\u001b[39;00m \u001b[39mas\u001b[39;00m \u001b[39mtypes\u001b[39;00m\n\u001b[0;32m    288\u001b[0m \u001b[39m# deprecated top-level access\u001b[39;00m\n\u001b[0;32m    291\u001b[0m \u001b[39mfrom\u001b[39;00m \u001b[39mpyarrow\u001b[39;00m\u001b[39m.\u001b[39;00m\u001b[39mfilesystem\u001b[39;00m \u001b[39mimport\u001b[39;00m FileSystem \u001b[39mas\u001b[39;00m _FileSystem\n",
      "File \u001b[1;32m<frozen importlib._bootstrap>:1027\u001b[0m, in \u001b[0;36m_find_and_load\u001b[1;34m(name, import_)\u001b[0m\n",
      "File \u001b[1;32m<frozen importlib._bootstrap>:1006\u001b[0m, in \u001b[0;36m_find_and_load_unlocked\u001b[1;34m(name, import_)\u001b[0m\n",
      "File \u001b[1;32m<frozen importlib._bootstrap>:688\u001b[0m, in \u001b[0;36m_load_unlocked\u001b[1;34m(spec)\u001b[0m\n",
      "File \u001b[1;32m<frozen importlib._bootstrap_external>:883\u001b[0m, in \u001b[0;36mexec_module\u001b[1;34m(self, module)\u001b[0m\n",
      "\u001b[1;31mKeyboardInterrupt\u001b[0m: "
     ]
    }
   ],
   "source": [
    "import tensorflow as tf\n",
    "\n",
    "model = tf.keras.Sequential()\n",
    "model.add(tf.keras.layers.Dense(units=100 ,activation='relu',input_shape=(4, )))\n",
    "model.add(tf.keras.layers.Dense(units=75 ,activation='relu'))\n",
    "model.add(tf.keras.layers.Dense(units=50 ,activation='relu'))\n",
    "model.add(tf.keras.layers.Dense(units=50 ,activation='relu'))\n",
    "model.add(tf.keras.layers.Dense(units=1 ,activation='linear'))\n",
    "\n",
    "model.summary()"
   ]
  },
  {
   "cell_type": "code",
   "execution_count": 151,
   "metadata": {},
   "outputs": [
    {
     "name": "stdout",
     "output_type": "stream",
     "text": [
      "Epoch 1/300\n",
      "119/119 [==============================] - 1s 4ms/step - loss: 0.0045 - root_mean_squared_error: 0.0671 - val_loss: 0.0187 - val_root_mean_squared_error: 0.1367\n",
      "Epoch 2/300\n",
      "119/119 [==============================] - 0s 3ms/step - loss: 0.0045 - root_mean_squared_error: 0.0667 - val_loss: 0.0209 - val_root_mean_squared_error: 0.1446\n",
      "Epoch 3/300\n",
      "119/119 [==============================] - 0s 2ms/step - loss: 0.0045 - root_mean_squared_error: 0.0670 - val_loss: 0.0211 - val_root_mean_squared_error: 0.1454\n",
      "Epoch 4/300\n",
      "119/119 [==============================] - 0s 2ms/step - loss: 0.0045 - root_mean_squared_error: 0.0670 - val_loss: 0.0202 - val_root_mean_squared_error: 0.1420\n",
      "Epoch 5/300\n",
      "119/119 [==============================] - 0s 2ms/step - loss: 0.0044 - root_mean_squared_error: 0.0666 - val_loss: 0.0234 - val_root_mean_squared_error: 0.1531\n",
      "Epoch 6/300\n",
      "119/119 [==============================] - 0s 2ms/step - loss: 0.0044 - root_mean_squared_error: 0.0667 - val_loss: 0.0224 - val_root_mean_squared_error: 0.1495\n",
      "Epoch 7/300\n",
      "119/119 [==============================] - 0s 2ms/step - loss: 0.0044 - root_mean_squared_error: 0.0663 - val_loss: 0.0202 - val_root_mean_squared_error: 0.1420\n",
      "Epoch 8/300\n",
      "119/119 [==============================] - 0s 2ms/step - loss: 0.0044 - root_mean_squared_error: 0.0665 - val_loss: 0.0179 - val_root_mean_squared_error: 0.1339\n",
      "Epoch 9/300\n",
      "119/119 [==============================] - 0s 2ms/step - loss: 0.0044 - root_mean_squared_error: 0.0665 - val_loss: 0.0203 - val_root_mean_squared_error: 0.1425\n",
      "Epoch 10/300\n",
      "119/119 [==============================] - 0s 2ms/step - loss: 0.0044 - root_mean_squared_error: 0.0663 - val_loss: 0.0195 - val_root_mean_squared_error: 0.1398\n",
      "Epoch 11/300\n",
      "119/119 [==============================] - 0s 2ms/step - loss: 0.0045 - root_mean_squared_error: 0.0668 - val_loss: 0.0200 - val_root_mean_squared_error: 0.1414\n",
      "Epoch 12/300\n",
      "119/119 [==============================] - 0s 2ms/step - loss: 0.0044 - root_mean_squared_error: 0.0665 - val_loss: 0.0222 - val_root_mean_squared_error: 0.1489\n",
      "Epoch 13/300\n",
      "119/119 [==============================] - 0s 2ms/step - loss: 0.0044 - root_mean_squared_error: 0.0666 - val_loss: 0.0195 - val_root_mean_squared_error: 0.1396\n",
      "Epoch 14/300\n",
      "119/119 [==============================] - 0s 2ms/step - loss: 0.0044 - root_mean_squared_error: 0.0663 - val_loss: 0.0203 - val_root_mean_squared_error: 0.1426\n",
      "Epoch 15/300\n",
      "119/119 [==============================] - 0s 4ms/step - loss: 0.0044 - root_mean_squared_error: 0.0661 - val_loss: 0.0211 - val_root_mean_squared_error: 0.1453\n",
      "Epoch 16/300\n",
      "119/119 [==============================] - 0s 3ms/step - loss: 0.0044 - root_mean_squared_error: 0.0661 - val_loss: 0.0194 - val_root_mean_squared_error: 0.1395\n",
      "Epoch 17/300\n",
      "119/119 [==============================] - 0s 2ms/step - loss: 0.0044 - root_mean_squared_error: 0.0664 - val_loss: 0.0184 - val_root_mean_squared_error: 0.1356\n",
      "Epoch 18/300\n",
      "119/119 [==============================] - 0s 3ms/step - loss: 0.0043 - root_mean_squared_error: 0.0659 - val_loss: 0.0205 - val_root_mean_squared_error: 0.1432\n",
      "Epoch 19/300\n",
      "119/119 [==============================] - 0s 3ms/step - loss: 0.0044 - root_mean_squared_error: 0.0663 - val_loss: 0.0198 - val_root_mean_squared_error: 0.1409\n",
      "Epoch 20/300\n",
      " 85/119 [====================>.........] - ETA: 0s - loss: 0.0045 - root_mean_squared_error: 0.0672"
     ]
    }
   ],
   "source": [
    "from sklearn.metrics import mean_squared_error\n",
    "metrics = tf.keras.metrics.RootMeanSquaredError()\n",
    "model.compile(optimizer = \"Adam\", loss = 'mean_squared_error', metrics = metrics)\n",
    "\n",
    "epoch_historial = model.fit(X_scaled,y_scaled,epochs = 300,batch_size =100, use_multiprocessing=True, validation_split = 0.01)\n",
    "\n",
    "#se entrena al modelo, el epochs es basicamente cuantas veces se entrenara el modelo"
   ]
  },
  {
   "cell_type": "code",
   "execution_count": 146,
   "metadata": {},
   "outputs": [
    {
     "data": {
      "text/plain": [
       "dict_keys(['loss', 'root_mean_squared_error', 'val_loss', 'val_root_mean_squared_error'])"
      ]
     },
     "execution_count": 146,
     "metadata": {},
     "output_type": "execute_result"
    }
   ],
   "source": [
    "epoch_historial.history.keys()"
   ]
  },
  {
   "cell_type": "code",
   "execution_count": 147,
   "metadata": {},
   "outputs": [
    {
     "data": {
      "text/plain": [
       "<matplotlib.legend.Legend at 0x2807fb4aa40>"
      ]
     },
     "execution_count": 147,
     "metadata": {},
     "output_type": "execute_result"
    },
    {
     "data": {
      "image/png": "[encoded data removed]",
      "text/plain": [
       "<Figure size 432x288 with 1 Axes>"
      ]
     },
     "metadata": {
      "needs_background": "light"
     },
     "output_type": "display_data"
    }
   ],
   "source": [
    "import matplotlib.pyplot as plt\n",
    "plt.plot(epoch_historial.history['loss'])\n",
    "plt.plot(epoch_historial.history['root_mean_squared_error'])\n",
    "# plt.plot(epoch_historial.history['val_loss'])\n",
    "plt.xlabel('epoch')\n",
    "plt.ylabel('entrenamiento y validacion loss')\n",
    "plt.legend(['loss','val_root_mean_squared_error','val_loss'])\n"
   ]
  },
  {
   "cell_type": "code",
   "execution_count": 148,
   "metadata": {},
   "outputs": [
    {
     "name": "stdout",
     "output_type": "stream",
     "text": [
      "375/375 [==============================] - 1s 1ms/step\n"
     ]
    }
   ],
   "source": [
    "y_train_pred = model.predict(X_scaled)\n",
    "#predigo con los datos de test (y las dichas columnas que seleccione antes segun su correlacion)\n",
    "#y le hago un inverse transform asi tengo los datos en el formato que estaban"
   ]
  },
  {
   "cell_type": "code",
   "execution_count": 149,
   "metadata": {},
   "outputs": [],
   "source": [
    "y_pred = scaler.inverse_transform(y_train_pred)"
   ]
  },
  {
   "cell_type": "code",
   "execution_count": 150,
   "metadata": {},
   "outputs": [
    {
     "data": {
      "text/plain": [
       "8.111359493901395"
      ]
     },
     "execution_count": 150,
     "metadata": {},
     "output_type": "execute_result"
    }
   ],
   "source": [
    "RMSE = np.sqrt(mean_squared_error(y, y_pred, squared=False))\n",
    "RMSE"
   ]
  },
  {
   "cell_type": "code",
   "execution_count": 77,
   "metadata": {},
   "outputs": [
    {
     "name": "stdout",
     "output_type": "stream",
     "text": [
      "169/169 [==============================] - 0s 1ms/step\n"
     ]
    }
   ],
   "source": [
    "X_datos_test = df_test[['hr','temp','workingday','weekday']]\n",
    "y_datos_pred = model.predict(X_datos_test)"
   ]
  },
  {
   "cell_type": "code",
   "execution_count": 78,
   "metadata": {},
   "outputs": [],
   "source": [
    "dataframe = pd.DataFrame(y_datos_pred)\n",
    "dataframe2 = dataframe.rename(columns={0:'pred'})\n",
    "dataframe2['pred']=dataframe2['pred'].astype('int64')\n",
    "dataframe2.to_csv('luqui5.csv',index=False)\n",
    "#paso a dataframe y guardo a csv los datos para la entregaa"
   ]
  }
 ],
 "metadata": {
  "kernelspec": {
   "display_name": "Python 3.10.4 64-bit",
   "language": "python",
   "name": "python3"
  },
  "language_info": {
   "codemirror_mode": {
    "name": "ipython",
    "version": 3
   },
   "file_extension": ".py",
   "mimetype": "text/x-python",
   "name": "python",
   "nbconvert_exporter": "python",
   "pygments_lexer": "ipython3",
   "version": "3.10.4"
  },
  "orig_nbformat": 4,
  "vscode": {
   "interpreter": {
    "hash": "0f4aad36e1a7834f44c14e84b98527cfbefef55e7a336cfec74130d804d73c8f"
   }
  }
 },
 "nbformat": 4,
 "nbformat_minor": 2
}
