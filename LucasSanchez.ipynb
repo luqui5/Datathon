{
 "cells": [
  {
   "cell_type": "code",
   "execution_count": null,
   "metadata": {},
   "outputs": [],
   "source": [
    "import numpy as np\n",
    "import pandas as pd "
   ]
  },
  {
   "cell_type": "code",
   "execution_count": 212,
   "metadata": {},
   "outputs": [],
   "source": [
    "df_train = pd.DataFrame(pd.read_excel(\"bike_train.xlsx\"))\n",
    "df_test = pd.DataFrame(pd.read_excel(\"bike_test.xlsx\"))"
   ]
  },
  {
   "cell_type": "code",
   "execution_count": 213,
   "metadata": {},
   "outputs": [
    {
     "data": {
      "text/plain": [
       "count    11999.000000\n",
       "mean       158.594966\n",
       "std        151.392952\n",
       "min          1.000000\n",
       "25%         34.000000\n",
       "50%        118.000000\n",
       "75%        232.000000\n",
       "max        957.000000\n",
       "Name: cnt, dtype: float64"
      ]
     },
     "execution_count": 213,
     "metadata": {},
     "output_type": "execute_result"
    }
   ],
   "source": [
    "df_train['cnt'].describe()"
   ]
  },
  {
   "cell_type": "code",
   "execution_count": 150,
   "metadata": {},
   "outputs": [
    {
     "data": {
      "text/html": [
       "<div>\n",
       "<style scoped>\n",
       "    .dataframe tbody tr th:only-of-type {\n",
       "        vertical-align: middle;\n",
       "    }\n",
       "\n",
       "    .dataframe tbody tr th {\n",
       "        vertical-align: top;\n",
       "    }\n",
       "\n",
       "    .dataframe thead th {\n",
       "        text-align: right;\n",
       "    }\n",
       "</style>\n",
       "<table border=\"1\" class=\"dataframe\">\n",
       "  <thead>\n",
       "    <tr style=\"text-align: right;\">\n",
       "      <th></th>\n",
       "      <th>instant</th>\n",
       "      <th>season</th>\n",
       "      <th>yr</th>\n",
       "      <th>mnth</th>\n",
       "      <th>hr</th>\n",
       "      <th>holiday</th>\n",
       "      <th>weekday</th>\n",
       "      <th>workingday</th>\n",
       "      <th>weathersit</th>\n",
       "      <th>temp</th>\n",
       "      <th>atemp</th>\n",
       "      <th>hum</th>\n",
       "      <th>windspeed</th>\n",
       "      <th>cnt</th>\n",
       "    </tr>\n",
       "  </thead>\n",
       "  <tbody>\n",
       "    <tr>\n",
       "      <th>instant</th>\n",
       "      <td>1.000000</td>\n",
       "      <td>0.118039</td>\n",
       "      <td>0.777284</td>\n",
       "      <td>0.167195</td>\n",
       "      <td>-0.007446</td>\n",
       "      <td>0.008323</td>\n",
       "      <td>0.007103</td>\n",
       "      <td>0.005295</td>\n",
       "      <td>-0.015359</td>\n",
       "      <td>0.029297</td>\n",
       "      <td>0.042490</td>\n",
       "      <td>-0.013275</td>\n",
       "      <td>-0.029001</td>\n",
       "      <td>0.229814</td>\n",
       "    </tr>\n",
       "    <tr>\n",
       "      <th>season</th>\n",
       "      <td>0.118039</td>\n",
       "      <td>1.000000</td>\n",
       "      <td>-0.446665</td>\n",
       "      <td>0.865268</td>\n",
       "      <td>-0.007610</td>\n",
       "      <td>-0.008928</td>\n",
       "      <td>-0.003688</td>\n",
       "      <td>0.012630</td>\n",
       "      <td>-0.009029</td>\n",
       "      <td>0.410790</td>\n",
       "      <td>0.413196</td>\n",
       "      <td>0.198937</td>\n",
       "      <td>-0.142924</td>\n",
       "      <td>0.111369</td>\n",
       "    </tr>\n",
       "    <tr>\n",
       "      <th>yr</th>\n",
       "      <td>0.777284</td>\n",
       "      <td>-0.446665</td>\n",
       "      <td>1.000000</td>\n",
       "      <td>-0.488103</td>\n",
       "      <td>-0.003948</td>\n",
       "      <td>0.001039</td>\n",
       "      <td>-0.002714</td>\n",
       "      <td>0.001068</td>\n",
       "      <td>-0.006309</td>\n",
       "      <td>-0.198929</td>\n",
       "      <td>-0.190360</td>\n",
       "      <td>-0.141319</td>\n",
       "      <td>0.067356</td>\n",
       "      <td>0.156960</td>\n",
       "    </tr>\n",
       "    <tr>\n",
       "      <th>mnth</th>\n",
       "      <td>0.167195</td>\n",
       "      <td>0.865268</td>\n",
       "      <td>-0.488103</td>\n",
       "      <td>1.000000</td>\n",
       "      <td>-0.007060</td>\n",
       "      <td>0.009372</td>\n",
       "      <td>0.014500</td>\n",
       "      <td>0.006441</td>\n",
       "      <td>-0.012239</td>\n",
       "      <td>0.353330</td>\n",
       "      <td>0.358541</td>\n",
       "      <td>0.201669</td>\n",
       "      <td>-0.147042</td>\n",
       "      <td>0.073431</td>\n",
       "    </tr>\n",
       "    <tr>\n",
       "      <th>hr</th>\n",
       "      <td>-0.007446</td>\n",
       "      <td>-0.007610</td>\n",
       "      <td>-0.003948</td>\n",
       "      <td>-0.007060</td>\n",
       "      <td>1.000000</td>\n",
       "      <td>0.000414</td>\n",
       "      <td>-0.004037</td>\n",
       "      <td>0.003454</td>\n",
       "      <td>-0.024003</td>\n",
       "      <td>0.139251</td>\n",
       "      <td>0.134633</td>\n",
       "      <td>-0.257202</td>\n",
       "      <td>0.130441</td>\n",
       "      <td>0.396698</td>\n",
       "    </tr>\n",
       "    <tr>\n",
       "      <th>holiday</th>\n",
       "      <td>0.008323</td>\n",
       "      <td>-0.008928</td>\n",
       "      <td>0.001039</td>\n",
       "      <td>0.009372</td>\n",
       "      <td>0.000414</td>\n",
       "      <td>1.000000</td>\n",
       "      <td>-0.102503</td>\n",
       "      <td>-0.248601</td>\n",
       "      <td>-0.014707</td>\n",
       "      <td>-0.028519</td>\n",
       "      <td>-0.038005</td>\n",
       "      <td>-0.036672</td>\n",
       "      <td>0.022681</td>\n",
       "      <td>-0.030304</td>\n",
       "    </tr>\n",
       "    <tr>\n",
       "      <th>weekday</th>\n",
       "      <td>0.007103</td>\n",
       "      <td>-0.003688</td>\n",
       "      <td>-0.002714</td>\n",
       "      <td>0.014500</td>\n",
       "      <td>-0.004037</td>\n",
       "      <td>-0.102503</td>\n",
       "      <td>1.000000</td>\n",
       "      <td>0.031057</td>\n",
       "      <td>0.017259</td>\n",
       "      <td>-0.010002</td>\n",
       "      <td>-0.009841</td>\n",
       "      <td>-0.025932</td>\n",
       "      <td>0.008447</td>\n",
       "      <td>0.022618</td>\n",
       "    </tr>\n",
       "    <tr>\n",
       "      <th>workingday</th>\n",
       "      <td>0.005295</td>\n",
       "      <td>0.012630</td>\n",
       "      <td>0.001068</td>\n",
       "      <td>0.006441</td>\n",
       "      <td>0.003454</td>\n",
       "      <td>-0.248601</td>\n",
       "      <td>0.031057</td>\n",
       "      <td>1.000000</td>\n",
       "      <td>0.042202</td>\n",
       "      <td>0.062273</td>\n",
       "      <td>0.066305</td>\n",
       "      <td>0.022805</td>\n",
       "      <td>-0.002493</td>\n",
       "      <td>0.025132</td>\n",
       "    </tr>\n",
       "    <tr>\n",
       "      <th>weathersit</th>\n",
       "      <td>-0.015359</td>\n",
       "      <td>-0.009029</td>\n",
       "      <td>-0.006309</td>\n",
       "      <td>-0.012239</td>\n",
       "      <td>-0.024003</td>\n",
       "      <td>-0.014707</td>\n",
       "      <td>0.017259</td>\n",
       "      <td>0.042202</td>\n",
       "      <td>1.000000</td>\n",
       "      <td>-0.080149</td>\n",
       "      <td>-0.081386</td>\n",
       "      <td>0.430378</td>\n",
       "      <td>0.009195</td>\n",
       "      <td>-0.149848</td>\n",
       "    </tr>\n",
       "    <tr>\n",
       "      <th>temp</th>\n",
       "      <td>0.029297</td>\n",
       "      <td>0.410790</td>\n",
       "      <td>-0.198929</td>\n",
       "      <td>0.353330</td>\n",
       "      <td>0.139251</td>\n",
       "      <td>-0.028519</td>\n",
       "      <td>-0.010002</td>\n",
       "      <td>0.062273</td>\n",
       "      <td>-0.080149</td>\n",
       "      <td>1.000000</td>\n",
       "      <td>0.991785</td>\n",
       "      <td>-0.019289</td>\n",
       "      <td>-0.013984</td>\n",
       "      <td>0.395743</td>\n",
       "    </tr>\n",
       "    <tr>\n",
       "      <th>atemp</th>\n",
       "      <td>0.042490</td>\n",
       "      <td>0.413196</td>\n",
       "      <td>-0.190360</td>\n",
       "      <td>0.358541</td>\n",
       "      <td>0.134633</td>\n",
       "      <td>-0.038005</td>\n",
       "      <td>-0.009841</td>\n",
       "      <td>0.066305</td>\n",
       "      <td>-0.081386</td>\n",
       "      <td>0.991785</td>\n",
       "      <td>1.000000</td>\n",
       "      <td>-0.003669</td>\n",
       "      <td>-0.057619</td>\n",
       "      <td>0.395234</td>\n",
       "    </tr>\n",
       "    <tr>\n",
       "      <th>hum</th>\n",
       "      <td>-0.013275</td>\n",
       "      <td>0.198937</td>\n",
       "      <td>-0.141319</td>\n",
       "      <td>0.201669</td>\n",
       "      <td>-0.257202</td>\n",
       "      <td>-0.036672</td>\n",
       "      <td>-0.025932</td>\n",
       "      <td>0.022805</td>\n",
       "      <td>0.430378</td>\n",
       "      <td>-0.019289</td>\n",
       "      <td>-0.003669</td>\n",
       "      <td>1.000000</td>\n",
       "      <td>-0.295765</td>\n",
       "      <td>-0.303672</td>\n",
       "    </tr>\n",
       "    <tr>\n",
       "      <th>windspeed</th>\n",
       "      <td>-0.029001</td>\n",
       "      <td>-0.142924</td>\n",
       "      <td>0.067356</td>\n",
       "      <td>-0.147042</td>\n",
       "      <td>0.130441</td>\n",
       "      <td>0.022681</td>\n",
       "      <td>0.008447</td>\n",
       "      <td>-0.002493</td>\n",
       "      <td>0.009195</td>\n",
       "      <td>-0.013984</td>\n",
       "      <td>-0.057619</td>\n",
       "      <td>-0.295765</td>\n",
       "      <td>1.000000</td>\n",
       "      <td>0.094791</td>\n",
       "    </tr>\n",
       "    <tr>\n",
       "      <th>cnt</th>\n",
       "      <td>0.229814</td>\n",
       "      <td>0.111369</td>\n",
       "      <td>0.156960</td>\n",
       "      <td>0.073431</td>\n",
       "      <td>0.396698</td>\n",
       "      <td>-0.030304</td>\n",
       "      <td>0.022618</td>\n",
       "      <td>0.025132</td>\n",
       "      <td>-0.149848</td>\n",
       "      <td>0.395743</td>\n",
       "      <td>0.395234</td>\n",
       "      <td>-0.303672</td>\n",
       "      <td>0.094791</td>\n",
       "      <td>1.000000</td>\n",
       "    </tr>\n",
       "  </tbody>\n",
       "</table>\n",
       "</div>"
      ],
      "text/plain": [
       "             instant    season        yr      mnth        hr   holiday  \\\n",
       "instant     1.000000  0.118039  0.777284  0.167195 -0.007446  0.008323   \n",
       "season      0.118039  1.000000 -0.446665  0.865268 -0.007610 -0.008928   \n",
       "yr          0.777284 -0.446665  1.000000 -0.488103 -0.003948  0.001039   \n",
       "mnth        0.167195  0.865268 -0.488103  1.000000 -0.007060  0.009372   \n",
       "hr         -0.007446 -0.007610 -0.003948 -0.007060  1.000000  0.000414   \n",
       "holiday     0.008323 -0.008928  0.001039  0.009372  0.000414  1.000000   \n",
       "weekday     0.007103 -0.003688 -0.002714  0.014500 -0.004037 -0.102503   \n",
       "workingday  0.005295  0.012630  0.001068  0.006441  0.003454 -0.248601   \n",
       "weathersit -0.015359 -0.009029 -0.006309 -0.012239 -0.024003 -0.014707   \n",
       "temp        0.029297  0.410790 -0.198929  0.353330  0.139251 -0.028519   \n",
       "atemp       0.042490  0.413196 -0.190360  0.358541  0.134633 -0.038005   \n",
       "hum        -0.013275  0.198937 -0.141319  0.201669 -0.257202 -0.036672   \n",
       "windspeed  -0.029001 -0.142924  0.067356 -0.147042  0.130441  0.022681   \n",
       "cnt         0.229814  0.111369  0.156960  0.073431  0.396698 -0.030304   \n",
       "\n",
       "             weekday  workingday  weathersit      temp     atemp       hum  \\\n",
       "instant     0.007103    0.005295   -0.015359  0.029297  0.042490 -0.013275   \n",
       "season     -0.003688    0.012630   -0.009029  0.410790  0.413196  0.198937   \n",
       "yr         -0.002714    0.001068   -0.006309 -0.198929 -0.190360 -0.141319   \n",
       "mnth        0.014500    0.006441   -0.012239  0.353330  0.358541  0.201669   \n",
       "hr         -0.004037    0.003454   -0.024003  0.139251  0.134633 -0.257202   \n",
       "holiday    -0.102503   -0.248601   -0.014707 -0.028519 -0.038005 -0.036672   \n",
       "weekday     1.000000    0.031057    0.017259 -0.010002 -0.009841 -0.025932   \n",
       "workingday  0.031057    1.000000    0.042202  0.062273  0.066305  0.022805   \n",
       "weathersit  0.017259    0.042202    1.000000 -0.080149 -0.081386  0.430378   \n",
       "temp       -0.010002    0.062273   -0.080149  1.000000  0.991785 -0.019289   \n",
       "atemp      -0.009841    0.066305   -0.081386  0.991785  1.000000 -0.003669   \n",
       "hum        -0.025932    0.022805    0.430378 -0.019289 -0.003669  1.000000   \n",
       "windspeed   0.008447   -0.002493    0.009195 -0.013984 -0.057619 -0.295765   \n",
       "cnt         0.022618    0.025132   -0.149848  0.395743  0.395234 -0.303672   \n",
       "\n",
       "            windspeed       cnt  \n",
       "instant     -0.029001  0.229814  \n",
       "season      -0.142924  0.111369  \n",
       "yr           0.067356  0.156960  \n",
       "mnth        -0.147042  0.073431  \n",
       "hr           0.130441  0.396698  \n",
       "holiday      0.022681 -0.030304  \n",
       "weekday      0.008447  0.022618  \n",
       "workingday  -0.002493  0.025132  \n",
       "weathersit   0.009195 -0.149848  \n",
       "temp        -0.013984  0.395743  \n",
       "atemp       -0.057619  0.395234  \n",
       "hum         -0.295765 -0.303672  \n",
       "windspeed    1.000000  0.094791  \n",
       "cnt          0.094791  1.000000  "
      ]
     },
     "execution_count": 150,
     "metadata": {},
     "output_type": "execute_result"
    }
   ],
   "source": [
    "df_train.corr()"
   ]
  },
  {
   "cell_type": "markdown",
   "metadata": {},
   "source": [
    "Basicamente lo que hice en las anteriores lineas de codigo fue analizar los datos para ver con cuales trabajare"
   ]
  },
  {
   "cell_type": "code",
   "execution_count": 240,
   "metadata": {},
   "outputs": [],
   "source": [
    "X = df_train[['hr','temp','workingday','weekday']]\n",
    "y = df_train['cnt']\n",
    "\n",
    "# from sklearn.preprocessing import MinMaxScaler\n",
    "\n",
    "# scaler = MinMaxScaler()\n",
    "# X_scaled = scaler.fit_transform(X) \n",
    "# y = y.values.reshape(-1, 1)\n",
    "# y_scaled = scaler.fit_transform(y)"
   ]
  },
  {
   "cell_type": "code",
   "execution_count": 241,
   "metadata": {},
   "outputs": [
    {
     "name": "stdout",
     "output_type": "stream",
     "text": [
      "Model: \"sequential_10\"\n",
      "_________________________________________________________________\n",
      " Layer (type)                Output Shape              Param #   \n",
      "=================================================================\n",
      " dense_40 (Dense)            (None, 100)               500       \n",
      "                                                                 \n",
      " dense_41 (Dense)            (None, 100)               10100     \n",
      "                                                                 \n",
      " dense_42 (Dense)            (None, 100)               10100     \n",
      "                                                                 \n",
      " dense_43 (Dense)            (None, 1)                 101       \n",
      "                                                                 \n",
      "=================================================================\n",
      "Total params: 20,801\n",
      "Trainable params: 20,801\n",
      "Non-trainable params: 0\n",
      "_________________________________________________________________\n"
     ]
    }
   ],
   "source": [
    "import tensorflow as tf\n",
    "\n",
    "model = tf.keras.Sequential()\n",
    "model.add(tf.keras.layers.Dense(units=100 ,activation='relu',input_shape=(4, )))\n",
    "model.add(tf.keras.layers.Dense(units=100 ,activation='relu'))\n",
    "model.add(tf.keras.layers.Dense(units=100 ,activation='relu'))\n",
    "model.add(tf.keras.layers.Dense(units=1 ,activation='sigmoid'))\n",
    "\n",
    "model.summary()"
   ]
  },
  {
   "cell_type": "code",
   "execution_count": null,
   "metadata": {},
   "outputs": [],
   "source": [
    "from sklearn.metrics import mean_squared_error\n",
    "metrics = tf.keras.metrics.RootMeanSquaredError()\n",
    "model.compile(optimizer = \"Adam\", loss = 'mean_squared_error', metrics = metrics)\n",
    "\n",
    "epoch_historial = model.fit(X,y,epochs = 500,batch_size =50)\n",
    "\n",
    "#se entrena al modelo, el epochs es basicamente cuantas veces se entrenara el modelo"
   ]
  },
  {
   "cell_type": "code",
   "execution_count": 243,
   "metadata": {},
   "outputs": [
    {
     "data": {
      "text/plain": [
       "dict_keys(['loss', 'root_mean_squared_error'])"
      ]
     },
     "execution_count": 243,
     "metadata": {},
     "output_type": "execute_result"
    }
   ],
   "source": [
    "epoch_historial.history.keys()"
   ]
  },
  {
   "cell_type": "code",
   "execution_count": 249,
   "metadata": {},
   "outputs": [
    {
     "data": {
      "text/plain": [
       "<matplotlib.legend.Legend at 0x26b06772560>"
      ]
     },
     "execution_count": 249,
     "metadata": {},
     "output_type": "execute_result"
    },
    {
     "data": {
      "image/png": "[encoded data removed]",
      "text/plain": [
       "<Figure size 432x288 with 1 Axes>"
      ]
     },
     "metadata": {
      "needs_background": "light"
     },
     "output_type": "display_data"
    }
   ],
   "source": [
    "import matplotlib.pyplot as plt\n",
    "plt.plot(epoch_historial.history['loss'])\n",
    "plt.plot(epoch_historial.history['root_mean_squared_error'])\n",
    "plt.xlabel('epoch')\n",
    "plt.ylabel('entrenamiento y validacion loss')\n",
    "plt.legend(['loss','val_root_mean_squared_error'])\n"
   ]
  },
  {
   "cell_type": "code",
   "execution_count": 269,
   "metadata": {},
   "outputs": [
    {
     "name": "stdout",
     "output_type": "stream",
     "text": [
      "375/375 [==============================] - 1s 2ms/step\n"
     ]
    }
   ],
   "source": [
    "y_train_pred = model.predict(X)\n",
    "\n",
    "#predigo con los datos de test (y las dichas columnas que seleccione antes segun su correlacion)\n",
    "#y le hago un inverse transform asi tengo los datos en el formato que estaban"
   ]
  },
  {
   "cell_type": "code",
   "execution_count": 270,
   "metadata": {},
   "outputs": [
    {
     "data": {
      "text/plain": [
       "66.32606128950965"
      ]
     },
     "execution_count": 270,
     "metadata": {},
     "output_type": "execute_result"
    }
   ],
   "source": [
    "RMSE = np.sqrt(mean_squared_error(y, y_train_pred))\n",
    "RMSE"
   ]
  },
  {
   "cell_type": "code",
   "execution_count": 264,
   "metadata": {},
   "outputs": [
    {
     "name": "stdout",
     "output_type": "stream",
     "text": [
      "169/169 [==============================] - 0s 1ms/step\n"
     ]
    }
   ],
   "source": [
    "X_datos_test = df_test[['hr','temp','workingday','weekday']]\n",
    "y_datos_pred = model.predict(X_datos_test)"
   ]
  },
  {
   "cell_type": "code",
   "execution_count": 272,
   "metadata": {},
   "outputs": [],
   "source": [
    "dataframe = pd.DataFrame(y_datos_pred)\n",
    "dataframe2 = dataframe.rename(columns={0:'pred'})\n",
    "dataframe2['pred']=dataframe2['pred'].astype('int64')\n",
    "dataframe2.to_csv('luqui5.csv',index=False)\n",
    "#paso a dataframe y guardo a csv los datos para la entregaa"
   ]
  }
 ],
 "metadata": {
  "kernelspec": {
   "display_name": "Python 3.10.4 64-bit",
   "language": "python",
   "name": "python3"
  },
  "language_info": {
   "codemirror_mode": {
    "name": "ipython",
    "version": 3
   },
   "file_extension": ".py",
   "mimetype": "text/x-python",
   "name": "python",
   "nbconvert_exporter": "python",
   "pygments_lexer": "ipython3",
   "version": "3.10.4"
  },
  "orig_nbformat": 4,
  "vscode": {
   "interpreter": {
    "hash": "0f4aad36e1a7834f44c14e84b98527cfbefef55e7a336cfec74130d804d73c8f"
   }
  }
 },
 "nbformat": 4,
 "nbformat_minor": 2
}
