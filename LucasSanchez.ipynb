{
 "cells": [
  {
   "cell_type": "code",
   "execution_count": 1,
   "metadata": {},
   "outputs": [],
   "source": [
    "import numpy as np\n",
    "import pandas as pd "
   ]
  },
  {
   "cell_type": "code",
   "execution_count": 2,
   "metadata": {},
   "outputs": [],
   "source": [
    "df_train = pd.DataFrame(pd.read_excel(\"bike_train.xlsx\"))\n",
    "df_test = pd.DataFrame(pd.read_excel(\"bike_test.xlsx\"))"
   ]
  },
  {
   "cell_type": "code",
   "execution_count": 3,
   "metadata": {},
   "outputs": [
    {
     "data": {
      "text/plain": [
       "count    11999.000000\n",
       "mean       158.594966\n",
       "std        151.392952\n",
       "min          1.000000\n",
       "25%         34.000000\n",
       "50%        118.000000\n",
       "75%        232.000000\n",
       "max        957.000000\n",
       "Name: cnt, dtype: float64"
      ]
     },
     "execution_count": 3,
     "metadata": {},
     "output_type": "execute_result"
    }
   ],
   "source": [
    "df_train['cnt'].describe()"
   ]
  },
  {
   "cell_type": "code",
   "execution_count": 4,
   "metadata": {},
   "outputs": [
    {
     "data": {
      "text/html": [
       "<div>\n",
       "<style scoped>\n",
       "    .dataframe tbody tr th:only-of-type {\n",
       "        vertical-align: middle;\n",
       "    }\n",
       "\n",
       "    .dataframe tbody tr th {\n",
       "        vertical-align: top;\n",
       "    }\n",
       "\n",
       "    .dataframe thead th {\n",
       "        text-align: right;\n",
       "    }\n",
       "</style>\n",
       "<table border=\"1\" class=\"dataframe\">\n",
       "  <thead>\n",
       "    <tr style=\"text-align: right;\">\n",
       "      <th></th>\n",
       "      <th>instant</th>\n",
       "      <th>season</th>\n",
       "      <th>yr</th>\n",
       "      <th>mnth</th>\n",
       "      <th>hr</th>\n",
       "      <th>holiday</th>\n",
       "      <th>weekday</th>\n",
       "      <th>workingday</th>\n",
       "      <th>weathersit</th>\n",
       "      <th>temp</th>\n",
       "      <th>atemp</th>\n",
       "      <th>hum</th>\n",
       "      <th>windspeed</th>\n",
       "      <th>casual</th>\n",
       "      <th>registered</th>\n",
       "      <th>cnt</th>\n",
       "    </tr>\n",
       "  </thead>\n",
       "  <tbody>\n",
       "    <tr>\n",
       "      <th>instant</th>\n",
       "      <td>1.000000</td>\n",
       "      <td>0.118039</td>\n",
       "      <td>0.777284</td>\n",
       "      <td>0.167195</td>\n",
       "      <td>-0.007446</td>\n",
       "      <td>0.008323</td>\n",
       "      <td>0.007103</td>\n",
       "      <td>0.005295</td>\n",
       "      <td>-0.015359</td>\n",
       "      <td>0.029297</td>\n",
       "      <td>0.042490</td>\n",
       "      <td>-0.013275</td>\n",
       "      <td>-0.029001</td>\n",
       "      <td>0.115768</td>\n",
       "      <td>0.238546</td>\n",
       "      <td>0.229814</td>\n",
       "    </tr>\n",
       "    <tr>\n",
       "      <th>season</th>\n",
       "      <td>0.118039</td>\n",
       "      <td>1.000000</td>\n",
       "      <td>-0.446665</td>\n",
       "      <td>0.865268</td>\n",
       "      <td>-0.007610</td>\n",
       "      <td>-0.008928</td>\n",
       "      <td>-0.003688</td>\n",
       "      <td>0.012630</td>\n",
       "      <td>-0.009029</td>\n",
       "      <td>0.410790</td>\n",
       "      <td>0.413196</td>\n",
       "      <td>0.198937</td>\n",
       "      <td>-0.142924</td>\n",
       "      <td>0.119043</td>\n",
       "      <td>0.093595</td>\n",
       "      <td>0.111369</td>\n",
       "    </tr>\n",
       "    <tr>\n",
       "      <th>yr</th>\n",
       "      <td>0.777284</td>\n",
       "      <td>-0.446665</td>\n",
       "      <td>1.000000</td>\n",
       "      <td>-0.488103</td>\n",
       "      <td>-0.003948</td>\n",
       "      <td>0.001039</td>\n",
       "      <td>-0.002714</td>\n",
       "      <td>0.001068</td>\n",
       "      <td>-0.006309</td>\n",
       "      <td>-0.198929</td>\n",
       "      <td>-0.190360</td>\n",
       "      <td>-0.141319</td>\n",
       "      <td>0.067356</td>\n",
       "      <td>0.053371</td>\n",
       "      <td>0.171910</td>\n",
       "      <td>0.156960</td>\n",
       "    </tr>\n",
       "    <tr>\n",
       "      <th>mnth</th>\n",
       "      <td>0.167195</td>\n",
       "      <td>0.865268</td>\n",
       "      <td>-0.488103</td>\n",
       "      <td>1.000000</td>\n",
       "      <td>-0.007060</td>\n",
       "      <td>0.009372</td>\n",
       "      <td>0.014500</td>\n",
       "      <td>0.006441</td>\n",
       "      <td>-0.012239</td>\n",
       "      <td>0.353330</td>\n",
       "      <td>0.358541</td>\n",
       "      <td>0.201669</td>\n",
       "      <td>-0.147042</td>\n",
       "      <td>0.078563</td>\n",
       "      <td>0.061686</td>\n",
       "      <td>0.073431</td>\n",
       "    </tr>\n",
       "    <tr>\n",
       "      <th>hr</th>\n",
       "      <td>-0.007446</td>\n",
       "      <td>-0.007610</td>\n",
       "      <td>-0.003948</td>\n",
       "      <td>-0.007060</td>\n",
       "      <td>1.000000</td>\n",
       "      <td>0.000414</td>\n",
       "      <td>-0.004037</td>\n",
       "      <td>0.003454</td>\n",
       "      <td>-0.024003</td>\n",
       "      <td>0.139251</td>\n",
       "      <td>0.134633</td>\n",
       "      <td>-0.257202</td>\n",
       "      <td>0.130441</td>\n",
       "      <td>0.285182</td>\n",
       "      <td>0.381933</td>\n",
       "      <td>0.396698</td>\n",
       "    </tr>\n",
       "    <tr>\n",
       "      <th>holiday</th>\n",
       "      <td>0.008323</td>\n",
       "      <td>-0.008928</td>\n",
       "      <td>0.001039</td>\n",
       "      <td>0.009372</td>\n",
       "      <td>0.000414</td>\n",
       "      <td>1.000000</td>\n",
       "      <td>-0.102503</td>\n",
       "      <td>-0.248601</td>\n",
       "      <td>-0.014707</td>\n",
       "      <td>-0.028519</td>\n",
       "      <td>-0.038005</td>\n",
       "      <td>-0.036672</td>\n",
       "      <td>0.022681</td>\n",
       "      <td>0.022140</td>\n",
       "      <td>-0.044534</td>\n",
       "      <td>-0.030304</td>\n",
       "    </tr>\n",
       "    <tr>\n",
       "      <th>weekday</th>\n",
       "      <td>0.007103</td>\n",
       "      <td>-0.003688</td>\n",
       "      <td>-0.002714</td>\n",
       "      <td>0.014500</td>\n",
       "      <td>-0.004037</td>\n",
       "      <td>-0.102503</td>\n",
       "      <td>1.000000</td>\n",
       "      <td>0.031057</td>\n",
       "      <td>0.017259</td>\n",
       "      <td>-0.010002</td>\n",
       "      <td>-0.009841</td>\n",
       "      <td>-0.025932</td>\n",
       "      <td>0.008447</td>\n",
       "      <td>0.023687</td>\n",
       "      <td>0.019179</td>\n",
       "      <td>0.022618</td>\n",
       "    </tr>\n",
       "    <tr>\n",
       "      <th>workingday</th>\n",
       "      <td>0.005295</td>\n",
       "      <td>0.012630</td>\n",
       "      <td>0.001068</td>\n",
       "      <td>0.006441</td>\n",
       "      <td>0.003454</td>\n",
       "      <td>-0.248601</td>\n",
       "      <td>0.031057</td>\n",
       "      <td>1.000000</td>\n",
       "      <td>0.042202</td>\n",
       "      <td>0.062273</td>\n",
       "      <td>0.066305</td>\n",
       "      <td>0.022805</td>\n",
       "      <td>-0.002493</td>\n",
       "      <td>-0.298241</td>\n",
       "      <td>0.134789</td>\n",
       "      <td>0.025132</td>\n",
       "    </tr>\n",
       "    <tr>\n",
       "      <th>weathersit</th>\n",
       "      <td>-0.015359</td>\n",
       "      <td>-0.009029</td>\n",
       "      <td>-0.006309</td>\n",
       "      <td>-0.012239</td>\n",
       "      <td>-0.024003</td>\n",
       "      <td>-0.014707</td>\n",
       "      <td>0.017259</td>\n",
       "      <td>0.042202</td>\n",
       "      <td>1.000000</td>\n",
       "      <td>-0.080149</td>\n",
       "      <td>-0.081386</td>\n",
       "      <td>0.430378</td>\n",
       "      <td>0.009195</td>\n",
       "      <td>-0.147903</td>\n",
       "      <td>-0.130223</td>\n",
       "      <td>-0.149848</td>\n",
       "    </tr>\n",
       "    <tr>\n",
       "      <th>temp</th>\n",
       "      <td>0.029297</td>\n",
       "      <td>0.410790</td>\n",
       "      <td>-0.198929</td>\n",
       "      <td>0.353330</td>\n",
       "      <td>0.139251</td>\n",
       "      <td>-0.028519</td>\n",
       "      <td>-0.010002</td>\n",
       "      <td>0.062273</td>\n",
       "      <td>-0.080149</td>\n",
       "      <td>1.000000</td>\n",
       "      <td>0.991785</td>\n",
       "      <td>-0.019289</td>\n",
       "      <td>-0.013984</td>\n",
       "      <td>0.450777</td>\n",
       "      <td>0.322875</td>\n",
       "      <td>0.395743</td>\n",
       "    </tr>\n",
       "    <tr>\n",
       "      <th>atemp</th>\n",
       "      <td>0.042490</td>\n",
       "      <td>0.413196</td>\n",
       "      <td>-0.190360</td>\n",
       "      <td>0.358541</td>\n",
       "      <td>0.134633</td>\n",
       "      <td>-0.038005</td>\n",
       "      <td>-0.009841</td>\n",
       "      <td>0.066305</td>\n",
       "      <td>-0.081386</td>\n",
       "      <td>0.991785</td>\n",
       "      <td>1.000000</td>\n",
       "      <td>-0.003669</td>\n",
       "      <td>-0.057619</td>\n",
       "      <td>0.447899</td>\n",
       "      <td>0.323264</td>\n",
       "      <td>0.395234</td>\n",
       "    </tr>\n",
       "    <tr>\n",
       "      <th>hum</th>\n",
       "      <td>-0.013275</td>\n",
       "      <td>0.198937</td>\n",
       "      <td>-0.141319</td>\n",
       "      <td>0.201669</td>\n",
       "      <td>-0.257202</td>\n",
       "      <td>-0.036672</td>\n",
       "      <td>-0.025932</td>\n",
       "      <td>0.022805</td>\n",
       "      <td>0.430378</td>\n",
       "      <td>-0.019289</td>\n",
       "      <td>-0.003669</td>\n",
       "      <td>1.000000</td>\n",
       "      <td>-0.295765</td>\n",
       "      <td>-0.298354</td>\n",
       "      <td>-0.264382</td>\n",
       "      <td>-0.303672</td>\n",
       "    </tr>\n",
       "    <tr>\n",
       "      <th>windspeed</th>\n",
       "      <td>-0.029001</td>\n",
       "      <td>-0.142924</td>\n",
       "      <td>0.067356</td>\n",
       "      <td>-0.147042</td>\n",
       "      <td>0.130441</td>\n",
       "      <td>0.022681</td>\n",
       "      <td>0.008447</td>\n",
       "      <td>-0.002493</td>\n",
       "      <td>0.009195</td>\n",
       "      <td>-0.013984</td>\n",
       "      <td>-0.057619</td>\n",
       "      <td>-0.295765</td>\n",
       "      <td>1.000000</td>\n",
       "      <td>0.067061</td>\n",
       "      <td>0.091642</td>\n",
       "      <td>0.094791</td>\n",
       "    </tr>\n",
       "    <tr>\n",
       "      <th>casual</th>\n",
       "      <td>0.115768</td>\n",
       "      <td>0.119043</td>\n",
       "      <td>0.053371</td>\n",
       "      <td>0.078563</td>\n",
       "      <td>0.285182</td>\n",
       "      <td>0.022140</td>\n",
       "      <td>0.023687</td>\n",
       "      <td>-0.298241</td>\n",
       "      <td>-0.147903</td>\n",
       "      <td>0.450777</td>\n",
       "      <td>0.447899</td>\n",
       "      <td>-0.298354</td>\n",
       "      <td>0.067061</td>\n",
       "      <td>1.000000</td>\n",
       "      <td>0.503185</td>\n",
       "      <td>0.702414</td>\n",
       "    </tr>\n",
       "    <tr>\n",
       "      <th>registered</th>\n",
       "      <td>0.238546</td>\n",
       "      <td>0.093595</td>\n",
       "      <td>0.171910</td>\n",
       "      <td>0.061686</td>\n",
       "      <td>0.381933</td>\n",
       "      <td>-0.044534</td>\n",
       "      <td>0.019179</td>\n",
       "      <td>0.134789</td>\n",
       "      <td>-0.130223</td>\n",
       "      <td>0.322875</td>\n",
       "      <td>0.323264</td>\n",
       "      <td>-0.264382</td>\n",
       "      <td>0.091642</td>\n",
       "      <td>0.503185</td>\n",
       "      <td>1.000000</td>\n",
       "      <td>0.968540</td>\n",
       "    </tr>\n",
       "    <tr>\n",
       "      <th>cnt</th>\n",
       "      <td>0.229814</td>\n",
       "      <td>0.111369</td>\n",
       "      <td>0.156960</td>\n",
       "      <td>0.073431</td>\n",
       "      <td>0.396698</td>\n",
       "      <td>-0.030304</td>\n",
       "      <td>0.022618</td>\n",
       "      <td>0.025132</td>\n",
       "      <td>-0.149848</td>\n",
       "      <td>0.395743</td>\n",
       "      <td>0.395234</td>\n",
       "      <td>-0.303672</td>\n",
       "      <td>0.094791</td>\n",
       "      <td>0.702414</td>\n",
       "      <td>0.968540</td>\n",
       "      <td>1.000000</td>\n",
       "    </tr>\n",
       "  </tbody>\n",
       "</table>\n",
       "</div>"
      ],
      "text/plain": [
       "             instant    season        yr      mnth        hr   holiday  \\\n",
       "instant     1.000000  0.118039  0.777284  0.167195 -0.007446  0.008323   \n",
       "season      0.118039  1.000000 -0.446665  0.865268 -0.007610 -0.008928   \n",
       "yr          0.777284 -0.446665  1.000000 -0.488103 -0.003948  0.001039   \n",
       "mnth        0.167195  0.865268 -0.488103  1.000000 -0.007060  0.009372   \n",
       "hr         -0.007446 -0.007610 -0.003948 -0.007060  1.000000  0.000414   \n",
       "holiday     0.008323 -0.008928  0.001039  0.009372  0.000414  1.000000   \n",
       "weekday     0.007103 -0.003688 -0.002714  0.014500 -0.004037 -0.102503   \n",
       "workingday  0.005295  0.012630  0.001068  0.006441  0.003454 -0.248601   \n",
       "weathersit -0.015359 -0.009029 -0.006309 -0.012239 -0.024003 -0.014707   \n",
       "temp        0.029297  0.410790 -0.198929  0.353330  0.139251 -0.028519   \n",
       "atemp       0.042490  0.413196 -0.190360  0.358541  0.134633 -0.038005   \n",
       "hum        -0.013275  0.198937 -0.141319  0.201669 -0.257202 -0.036672   \n",
       "windspeed  -0.029001 -0.142924  0.067356 -0.147042  0.130441  0.022681   \n",
       "casual      0.115768  0.119043  0.053371  0.078563  0.285182  0.022140   \n",
       "registered  0.238546  0.093595  0.171910  0.061686  0.381933 -0.044534   \n",
       "cnt         0.229814  0.111369  0.156960  0.073431  0.396698 -0.030304   \n",
       "\n",
       "             weekday  workingday  weathersit      temp     atemp       hum  \\\n",
       "instant     0.007103    0.005295   -0.015359  0.029297  0.042490 -0.013275   \n",
       "season     -0.003688    0.012630   -0.009029  0.410790  0.413196  0.198937   \n",
       "yr         -0.002714    0.001068   -0.006309 -0.198929 -0.190360 -0.141319   \n",
       "mnth        0.014500    0.006441   -0.012239  0.353330  0.358541  0.201669   \n",
       "hr         -0.004037    0.003454   -0.024003  0.139251  0.134633 -0.257202   \n",
       "holiday    -0.102503   -0.248601   -0.014707 -0.028519 -0.038005 -0.036672   \n",
       "weekday     1.000000    0.031057    0.017259 -0.010002 -0.009841 -0.025932   \n",
       "workingday  0.031057    1.000000    0.042202  0.062273  0.066305  0.022805   \n",
       "weathersit  0.017259    0.042202    1.000000 -0.080149 -0.081386  0.430378   \n",
       "temp       -0.010002    0.062273   -0.080149  1.000000  0.991785 -0.019289   \n",
       "atemp      -0.009841    0.066305   -0.081386  0.991785  1.000000 -0.003669   \n",
       "hum        -0.025932    0.022805    0.430378 -0.019289 -0.003669  1.000000   \n",
       "windspeed   0.008447   -0.002493    0.009195 -0.013984 -0.057619 -0.295765   \n",
       "casual      0.023687   -0.298241   -0.147903  0.450777  0.447899 -0.298354   \n",
       "registered  0.019179    0.134789   -0.130223  0.322875  0.323264 -0.264382   \n",
       "cnt         0.022618    0.025132   -0.149848  0.395743  0.395234 -0.303672   \n",
       "\n",
       "            windspeed    casual  registered       cnt  \n",
       "instant     -0.029001  0.115768    0.238546  0.229814  \n",
       "season      -0.142924  0.119043    0.093595  0.111369  \n",
       "yr           0.067356  0.053371    0.171910  0.156960  \n",
       "mnth        -0.147042  0.078563    0.061686  0.073431  \n",
       "hr           0.130441  0.285182    0.381933  0.396698  \n",
       "holiday      0.022681  0.022140   -0.044534 -0.030304  \n",
       "weekday      0.008447  0.023687    0.019179  0.022618  \n",
       "workingday  -0.002493 -0.298241    0.134789  0.025132  \n",
       "weathersit   0.009195 -0.147903   -0.130223 -0.149848  \n",
       "temp        -0.013984  0.450777    0.322875  0.395743  \n",
       "atemp       -0.057619  0.447899    0.323264  0.395234  \n",
       "hum         -0.295765 -0.298354   -0.264382 -0.303672  \n",
       "windspeed    1.000000  0.067061    0.091642  0.094791  \n",
       "casual       0.067061  1.000000    0.503185  0.702414  \n",
       "registered   0.091642  0.503185    1.000000  0.968540  \n",
       "cnt          0.094791  0.702414    0.968540  1.000000  "
      ]
     },
     "execution_count": 4,
     "metadata": {},
     "output_type": "execute_result"
    }
   ],
   "source": [
    "df_train.corr()"
   ]
  },
  {
   "cell_type": "markdown",
   "metadata": {},
   "source": [
    "Basicamente lo que hice en las anteriores lineas de codigo fue analizar los datos para ver con cuales trabajare"
   ]
  },
  {
   "cell_type": "code",
   "execution_count": 168,
   "metadata": {},
   "outputs": [],
   "source": [
    "X = df_train[['season','hr','temp','weekday','weathersit','workingday','hum','windspeed']]\n",
    "y = df_train['cnt']\n",
    "\n",
    "from sklearn.model_selection import train_test_split\n",
    "\n",
    "X_train, X_test, y_train, y_test = train_test_split(X, y, test_size=0.20, random_state=0)\n"
   ]
  },
  {
   "cell_type": "code",
   "execution_count": 180,
   "metadata": {},
   "outputs": [],
   "source": [
    "from sklearn.model_selection import GridSearchCV\n",
    "from sklearn.preprocessing import StandardScaler\n",
    "from sklearn.ensemble import RandomForestRegressor\n",
    "\n",
    "param_grid_lis = {'max_depth':[5,10,20,30], 'max_features':['auto'],'n_estimators':[500,750,1000]}\n",
    "\n",
    "randomfores = RandomForestRegressor()\n",
    "\n",
    "model = GridSearchCV(estimator= randomfores , param_grid = param_grid_lis,cv=4, n_jobs=-1,verbose=3)\n",
    "\n",
    "# RandomForestRegressor(max_depth=5, max_features='auto', n_estimators=1000)\n",
    "\n",
    "# RandomForestRegressor(max_depth=10, max_features='auto', n_estimators=250)"
   ]
  },
  {
   "cell_type": "code",
   "execution_count": 182,
   "metadata": {},
   "outputs": [
    {
     "name": "stdout",
     "output_type": "stream",
     "text": [
      "Fitting 4 folds for each of 12 candidates, totalling 48 fits\n"
     ]
    },
    {
     "name": "stderr",
     "output_type": "stream",
     "text": [
      "c:\\Users\\Lucas\\AppData\\Local\\Programs\\Python\\Python310\\lib\\site-packages\\sklearn\\ensemble\\_forest.py:416: FutureWarning: `max_features='auto'` has been deprecated in 1.1 and will be removed in 1.3. To keep the past behaviour, explicitly set `max_features=1.0` or remove this parameter as it is also the default value for RandomForestRegressors and ExtraTreesRegressors.\n",
      "  warn(\n"
     ]
    },
    {
     "data": {
      "text/html": [
       "<style>#sk-container-id-20 {color: black;background-color: white;}#sk-container-id-20 pre{padding: 0;}#sk-container-id-20 div.sk-toggleable {background-color: white;}#sk-container-id-20 label.sk-toggleable__label {cursor: pointer;display: block;width: 100%;margin-bottom: 0;padding: 0.3em;box-sizing: border-box;text-align: center;}#sk-container-id-20 label.sk-toggleable__label-arrow:before {content: \"▸\";float: left;margin-right: 0.25em;color: #696969;}#sk-container-id-20 label.sk-toggleable__label-arrow:hover:before {color: black;}#sk-container-id-20 div.sk-estimator:hover label.sk-toggleable__label-arrow:before {color: black;}#sk-container-id-20 div.sk-toggleable__content {max-height: 0;max-width: 0;overflow: hidden;text-align: left;background-color: #f0f8ff;}#sk-container-id-20 div.sk-toggleable__content pre {margin: 0.2em;color: black;border-radius: 0.25em;background-color: #f0f8ff;}#sk-container-id-20 input.sk-toggleable__control:checked~div.sk-toggleable__content {max-height: 200px;max-width: 100%;overflow: auto;}#sk-container-id-20 input.sk-toggleable__control:checked~label.sk-toggleable__label-arrow:before {content: \"▾\";}#sk-container-id-20 div.sk-estimator input.sk-toggleable__control:checked~label.sk-toggleable__label {background-color: #d4ebff;}#sk-container-id-20 div.sk-label input.sk-toggleable__control:checked~label.sk-toggleable__label {background-color: #d4ebff;}#sk-container-id-20 input.sk-hidden--visually {border: 0;clip: rect(1px 1px 1px 1px);clip: rect(1px, 1px, 1px, 1px);height: 1px;margin: -1px;overflow: hidden;padding: 0;position: absolute;width: 1px;}#sk-container-id-20 div.sk-estimator {font-family: monospace;background-color: #f0f8ff;border: 1px dotted black;border-radius: 0.25em;box-sizing: border-box;margin-bottom: 0.5em;}#sk-container-id-20 div.sk-estimator:hover {background-color: #d4ebff;}#sk-container-id-20 div.sk-parallel-item::after {content: \"\";width: 100%;border-bottom: 1px solid gray;flex-grow: 1;}#sk-container-id-20 div.sk-label:hover label.sk-toggleable__label {background-color: #d4ebff;}#sk-container-id-20 div.sk-serial::before {content: \"\";position: absolute;border-left: 1px solid gray;box-sizing: border-box;top: 0;bottom: 0;left: 50%;z-index: 0;}#sk-container-id-20 div.sk-serial {display: flex;flex-direction: column;align-items: center;background-color: white;padding-right: 0.2em;padding-left: 0.2em;position: relative;}#sk-container-id-20 div.sk-item {position: relative;z-index: 1;}#sk-container-id-20 div.sk-parallel {display: flex;align-items: stretch;justify-content: center;background-color: white;position: relative;}#sk-container-id-20 div.sk-item::before, #sk-container-id-20 div.sk-parallel-item::before {content: \"\";position: absolute;border-left: 1px solid gray;box-sizing: border-box;top: 0;bottom: 0;left: 50%;z-index: -1;}#sk-container-id-20 div.sk-parallel-item {display: flex;flex-direction: column;z-index: 1;position: relative;background-color: white;}#sk-container-id-20 div.sk-parallel-item:first-child::after {align-self: flex-end;width: 50%;}#sk-container-id-20 div.sk-parallel-item:last-child::after {align-self: flex-start;width: 50%;}#sk-container-id-20 div.sk-parallel-item:only-child::after {width: 0;}#sk-container-id-20 div.sk-dashed-wrapped {border: 1px dashed gray;margin: 0 0.4em 0.5em 0.4em;box-sizing: border-box;padding-bottom: 0.4em;background-color: white;}#sk-container-id-20 div.sk-label label {font-family: monospace;font-weight: bold;display: inline-block;line-height: 1.2em;}#sk-container-id-20 div.sk-label-container {text-align: center;}#sk-container-id-20 div.sk-container {/* jupyter's `normalize.less` sets `[hidden] { display: none; }` but bootstrap.min.css set `[hidden] { display: none !important; }` so we also need the `!important` here to be able to override the default hidden behavior on the sphinx rendered scikit-learn.org. See: https://github.com/scikit-learn/scikit-learn/issues/21755 */display: inline-block !important;position: relative;}#sk-container-id-20 div.sk-text-repr-fallback {display: none;}</style><div id=\"sk-container-id-20\" class=\"sk-top-container\"><div class=\"sk-text-repr-fallback\"><pre>GridSearchCV(cv=4, estimator=RandomForestRegressor(), n_jobs=-1,\n",
       "             param_grid={&#x27;max_depth&#x27;: [5, 10, 20, 30], &#x27;max_features&#x27;: [&#x27;auto&#x27;],\n",
       "                         &#x27;n_estimators&#x27;: [500, 750, 1000]},\n",
       "             verbose=3)</pre><b>In a Jupyter environment, please rerun this cell to show the HTML representation or trust the notebook. <br />On GitHub, the HTML representation is unable to render, please try loading this page with nbviewer.org.</b></div><div class=\"sk-container\" hidden><div class=\"sk-item sk-dashed-wrapped\"><div class=\"sk-label-container\"><div class=\"sk-label sk-toggleable\"><input class=\"sk-toggleable__control sk-hidden--visually\" id=\"sk-estimator-id-38\" type=\"checkbox\" ><label for=\"sk-estimator-id-38\" class=\"sk-toggleable__label sk-toggleable__label-arrow\">GridSearchCV</label><div class=\"sk-toggleable__content\"><pre>GridSearchCV(cv=4, estimator=RandomForestRegressor(), n_jobs=-1,\n",
       "             param_grid={&#x27;max_depth&#x27;: [5, 10, 20, 30], &#x27;max_features&#x27;: [&#x27;auto&#x27;],\n",
       "                         &#x27;n_estimators&#x27;: [500, 750, 1000]},\n",
       "             verbose=3)</pre></div></div></div><div class=\"sk-parallel\"><div class=\"sk-parallel-item\"><div class=\"sk-item\"><div class=\"sk-label-container\"><div class=\"sk-label sk-toggleable\"><input class=\"sk-toggleable__control sk-hidden--visually\" id=\"sk-estimator-id-39\" type=\"checkbox\" ><label for=\"sk-estimator-id-39\" class=\"sk-toggleable__label sk-toggleable__label-arrow\">estimator: RandomForestRegressor</label><div class=\"sk-toggleable__content\"><pre>RandomForestRegressor()</pre></div></div></div><div class=\"sk-serial\"><div class=\"sk-item\"><div class=\"sk-estimator sk-toggleable\"><input class=\"sk-toggleable__control sk-hidden--visually\" id=\"sk-estimator-id-40\" type=\"checkbox\" ><label for=\"sk-estimator-id-40\" class=\"sk-toggleable__label sk-toggleable__label-arrow\">RandomForestRegressor</label><div class=\"sk-toggleable__content\"><pre>RandomForestRegressor()</pre></div></div></div></div></div></div></div></div></div></div>"
      ],
      "text/plain": [
       "GridSearchCV(cv=4, estimator=RandomForestRegressor(), n_jobs=-1,\n",
       "             param_grid={'max_depth': [5, 10, 20, 30], 'max_features': ['auto'],\n",
       "                         'n_estimators': [500, 750, 1000]},\n",
       "             verbose=3)"
      ]
     },
     "execution_count": 182,
     "metadata": {},
     "output_type": "execute_result"
    }
   ],
   "source": [
    "model.fit(X_train,y_train)"
   ]
  },
  {
   "cell_type": "code",
   "execution_count": 183,
   "metadata": {},
   "outputs": [
    {
     "data": {
      "text/html": [
       "<style>#sk-container-id-21 {color: black;background-color: white;}#sk-container-id-21 pre{padding: 0;}#sk-container-id-21 div.sk-toggleable {background-color: white;}#sk-container-id-21 label.sk-toggleable__label {cursor: pointer;display: block;width: 100%;margin-bottom: 0;padding: 0.3em;box-sizing: border-box;text-align: center;}#sk-container-id-21 label.sk-toggleable__label-arrow:before {content: \"▸\";float: left;margin-right: 0.25em;color: #696969;}#sk-container-id-21 label.sk-toggleable__label-arrow:hover:before {color: black;}#sk-container-id-21 div.sk-estimator:hover label.sk-toggleable__label-arrow:before {color: black;}#sk-container-id-21 div.sk-toggleable__content {max-height: 0;max-width: 0;overflow: hidden;text-align: left;background-color: #f0f8ff;}#sk-container-id-21 div.sk-toggleable__content pre {margin: 0.2em;color: black;border-radius: 0.25em;background-color: #f0f8ff;}#sk-container-id-21 input.sk-toggleable__control:checked~div.sk-toggleable__content {max-height: 200px;max-width: 100%;overflow: auto;}#sk-container-id-21 input.sk-toggleable__control:checked~label.sk-toggleable__label-arrow:before {content: \"▾\";}#sk-container-id-21 div.sk-estimator input.sk-toggleable__control:checked~label.sk-toggleable__label {background-color: #d4ebff;}#sk-container-id-21 div.sk-label input.sk-toggleable__control:checked~label.sk-toggleable__label {background-color: #d4ebff;}#sk-container-id-21 input.sk-hidden--visually {border: 0;clip: rect(1px 1px 1px 1px);clip: rect(1px, 1px, 1px, 1px);height: 1px;margin: -1px;overflow: hidden;padding: 0;position: absolute;width: 1px;}#sk-container-id-21 div.sk-estimator {font-family: monospace;background-color: #f0f8ff;border: 1px dotted black;border-radius: 0.25em;box-sizing: border-box;margin-bottom: 0.5em;}#sk-container-id-21 div.sk-estimator:hover {background-color: #d4ebff;}#sk-container-id-21 div.sk-parallel-item::after {content: \"\";width: 100%;border-bottom: 1px solid gray;flex-grow: 1;}#sk-container-id-21 div.sk-label:hover label.sk-toggleable__label {background-color: #d4ebff;}#sk-container-id-21 div.sk-serial::before {content: \"\";position: absolute;border-left: 1px solid gray;box-sizing: border-box;top: 0;bottom: 0;left: 50%;z-index: 0;}#sk-container-id-21 div.sk-serial {display: flex;flex-direction: column;align-items: center;background-color: white;padding-right: 0.2em;padding-left: 0.2em;position: relative;}#sk-container-id-21 div.sk-item {position: relative;z-index: 1;}#sk-container-id-21 div.sk-parallel {display: flex;align-items: stretch;justify-content: center;background-color: white;position: relative;}#sk-container-id-21 div.sk-item::before, #sk-container-id-21 div.sk-parallel-item::before {content: \"\";position: absolute;border-left: 1px solid gray;box-sizing: border-box;top: 0;bottom: 0;left: 50%;z-index: -1;}#sk-container-id-21 div.sk-parallel-item {display: flex;flex-direction: column;z-index: 1;position: relative;background-color: white;}#sk-container-id-21 div.sk-parallel-item:first-child::after {align-self: flex-end;width: 50%;}#sk-container-id-21 div.sk-parallel-item:last-child::after {align-self: flex-start;width: 50%;}#sk-container-id-21 div.sk-parallel-item:only-child::after {width: 0;}#sk-container-id-21 div.sk-dashed-wrapped {border: 1px dashed gray;margin: 0 0.4em 0.5em 0.4em;box-sizing: border-box;padding-bottom: 0.4em;background-color: white;}#sk-container-id-21 div.sk-label label {font-family: monospace;font-weight: bold;display: inline-block;line-height: 1.2em;}#sk-container-id-21 div.sk-label-container {text-align: center;}#sk-container-id-21 div.sk-container {/* jupyter's `normalize.less` sets `[hidden] { display: none; }` but bootstrap.min.css set `[hidden] { display: none !important; }` so we also need the `!important` here to be able to override the default hidden behavior on the sphinx rendered scikit-learn.org. See: https://github.com/scikit-learn/scikit-learn/issues/21755 */display: inline-block !important;position: relative;}#sk-container-id-21 div.sk-text-repr-fallback {display: none;}</style><div id=\"sk-container-id-21\" class=\"sk-top-container\"><div class=\"sk-text-repr-fallback\"><pre>RandomForestRegressor(max_depth=20, max_features=&#x27;auto&#x27;, n_estimators=750)</pre><b>In a Jupyter environment, please rerun this cell to show the HTML representation or trust the notebook. <br />On GitHub, the HTML representation is unable to render, please try loading this page with nbviewer.org.</b></div><div class=\"sk-container\" hidden><div class=\"sk-item\"><div class=\"sk-estimator sk-toggleable\"><input class=\"sk-toggleable__control sk-hidden--visually\" id=\"sk-estimator-id-41\" type=\"checkbox\" checked><label for=\"sk-estimator-id-41\" class=\"sk-toggleable__label sk-toggleable__label-arrow\">RandomForestRegressor</label><div class=\"sk-toggleable__content\"><pre>RandomForestRegressor(max_depth=20, max_features=&#x27;auto&#x27;, n_estimators=750)</pre></div></div></div></div></div>"
      ],
      "text/plain": [
       "RandomForestRegressor(max_depth=20, max_features='auto', n_estimators=750)"
      ]
     },
     "execution_count": 183,
     "metadata": {},
     "output_type": "execute_result"
    }
   ],
   "source": [
    "model.best_estimator_"
   ]
  },
  {
   "cell_type": "code",
   "execution_count": 185,
   "metadata": {},
   "outputs": [
    {
     "name": "stderr",
     "output_type": "stream",
     "text": [
      "c:\\Users\\Lucas\\AppData\\Local\\Programs\\Python\\Python310\\lib\\site-packages\\sklearn\\ensemble\\_forest.py:416: FutureWarning: `max_features='auto'` has been deprecated in 1.1 and will be removed in 1.3. To keep the past behaviour, explicitly set `max_features=1.0` or remove this parameter as it is also the default value for RandomForestRegressors and ExtraTreesRegressors.\n",
      "  warn(\n"
     ]
    },
    {
     "data": {
      "text/html": [
       "<style>#sk-container-id-22 {color: black;background-color: white;}#sk-container-id-22 pre{padding: 0;}#sk-container-id-22 div.sk-toggleable {background-color: white;}#sk-container-id-22 label.sk-toggleable__label {cursor: pointer;display: block;width: 100%;margin-bottom: 0;padding: 0.3em;box-sizing: border-box;text-align: center;}#sk-container-id-22 label.sk-toggleable__label-arrow:before {content: \"▸\";float: left;margin-right: 0.25em;color: #696969;}#sk-container-id-22 label.sk-toggleable__label-arrow:hover:before {color: black;}#sk-container-id-22 div.sk-estimator:hover label.sk-toggleable__label-arrow:before {color: black;}#sk-container-id-22 div.sk-toggleable__content {max-height: 0;max-width: 0;overflow: hidden;text-align: left;background-color: #f0f8ff;}#sk-container-id-22 div.sk-toggleable__content pre {margin: 0.2em;color: black;border-radius: 0.25em;background-color: #f0f8ff;}#sk-container-id-22 input.sk-toggleable__control:checked~div.sk-toggleable__content {max-height: 200px;max-width: 100%;overflow: auto;}#sk-container-id-22 input.sk-toggleable__control:checked~label.sk-toggleable__label-arrow:before {content: \"▾\";}#sk-container-id-22 div.sk-estimator input.sk-toggleable__control:checked~label.sk-toggleable__label {background-color: #d4ebff;}#sk-container-id-22 div.sk-label input.sk-toggleable__control:checked~label.sk-toggleable__label {background-color: #d4ebff;}#sk-container-id-22 input.sk-hidden--visually {border: 0;clip: rect(1px 1px 1px 1px);clip: rect(1px, 1px, 1px, 1px);height: 1px;margin: -1px;overflow: hidden;padding: 0;position: absolute;width: 1px;}#sk-container-id-22 div.sk-estimator {font-family: monospace;background-color: #f0f8ff;border: 1px dotted black;border-radius: 0.25em;box-sizing: border-box;margin-bottom: 0.5em;}#sk-container-id-22 div.sk-estimator:hover {background-color: #d4ebff;}#sk-container-id-22 div.sk-parallel-item::after {content: \"\";width: 100%;border-bottom: 1px solid gray;flex-grow: 1;}#sk-container-id-22 div.sk-label:hover label.sk-toggleable__label {background-color: #d4ebff;}#sk-container-id-22 div.sk-serial::before {content: \"\";position: absolute;border-left: 1px solid gray;box-sizing: border-box;top: 0;bottom: 0;left: 50%;z-index: 0;}#sk-container-id-22 div.sk-serial {display: flex;flex-direction: column;align-items: center;background-color: white;padding-right: 0.2em;padding-left: 0.2em;position: relative;}#sk-container-id-22 div.sk-item {position: relative;z-index: 1;}#sk-container-id-22 div.sk-parallel {display: flex;align-items: stretch;justify-content: center;background-color: white;position: relative;}#sk-container-id-22 div.sk-item::before, #sk-container-id-22 div.sk-parallel-item::before {content: \"\";position: absolute;border-left: 1px solid gray;box-sizing: border-box;top: 0;bottom: 0;left: 50%;z-index: -1;}#sk-container-id-22 div.sk-parallel-item {display: flex;flex-direction: column;z-index: 1;position: relative;background-color: white;}#sk-container-id-22 div.sk-parallel-item:first-child::after {align-self: flex-end;width: 50%;}#sk-container-id-22 div.sk-parallel-item:last-child::after {align-self: flex-start;width: 50%;}#sk-container-id-22 div.sk-parallel-item:only-child::after {width: 0;}#sk-container-id-22 div.sk-dashed-wrapped {border: 1px dashed gray;margin: 0 0.4em 0.5em 0.4em;box-sizing: border-box;padding-bottom: 0.4em;background-color: white;}#sk-container-id-22 div.sk-label label {font-family: monospace;font-weight: bold;display: inline-block;line-height: 1.2em;}#sk-container-id-22 div.sk-label-container {text-align: center;}#sk-container-id-22 div.sk-container {/* jupyter's `normalize.less` sets `[hidden] { display: none; }` but bootstrap.min.css set `[hidden] { display: none !important; }` so we also need the `!important` here to be able to override the default hidden behavior on the sphinx rendered scikit-learn.org. See: https://github.com/scikit-learn/scikit-learn/issues/21755 */display: inline-block !important;position: relative;}#sk-container-id-22 div.sk-text-repr-fallback {display: none;}</style><div id=\"sk-container-id-22\" class=\"sk-top-container\"><div class=\"sk-text-repr-fallback\"><pre>RandomForestRegressor(max_depth=20, max_features=&#x27;auto&#x27;, n_estimators=750,\n",
       "                      random_state=42)</pre><b>In a Jupyter environment, please rerun this cell to show the HTML representation or trust the notebook. <br />On GitHub, the HTML representation is unable to render, please try loading this page with nbviewer.org.</b></div><div class=\"sk-container\" hidden><div class=\"sk-item\"><div class=\"sk-estimator sk-toggleable\"><input class=\"sk-toggleable__control sk-hidden--visually\" id=\"sk-estimator-id-42\" type=\"checkbox\" checked><label for=\"sk-estimator-id-42\" class=\"sk-toggleable__label sk-toggleable__label-arrow\">RandomForestRegressor</label><div class=\"sk-toggleable__content\"><pre>RandomForestRegressor(max_depth=20, max_features=&#x27;auto&#x27;, n_estimators=750,\n",
       "                      random_state=42)</pre></div></div></div></div></div>"
      ],
      "text/plain": [
       "RandomForestRegressor(max_depth=20, max_features='auto', n_estimators=750,\n",
       "                      random_state=42)"
      ]
     },
     "execution_count": 185,
     "metadata": {},
     "output_type": "execute_result"
    }
   ],
   "source": [
    "modelo_1 = RandomForestRegressor(max_depth=20, max_features='auto', n_estimators=750, random_state=42)\n",
    "modelo_1.fit(X,y)"
   ]
  },
  {
   "cell_type": "code",
   "execution_count": 184,
   "metadata": {},
   "outputs": [
    {
     "name": "stdout",
     "output_type": "stream",
     "text": [
      "Model Performance\n",
      "Average Error: 34.0885 degrees.\n",
      "Accuracy = 57.21%.\n",
      "RMSE: 7.427489294514063\n"
     ]
    },
    {
     "data": {
      "text/plain": [
       "57.212109055418345"
      ]
     },
     "execution_count": 184,
     "metadata": {},
     "output_type": "execute_result"
    }
   ],
   "source": [
    "from sklearn.metrics import mean_squared_error\n",
    "def evaluate(model, X_test, y_test):\n",
    "    predictions = model.predict(X_test)\n",
    "    errors = abs(predictions - y_test)\n",
    "    mape = 100 * np.mean(errors / y_test)\n",
    "    accuracy = 100 - mape\n",
    "    RMSE = np.sqrt(mean_squared_error(y_test, predictions, squared=False))\n",
    "    print('Model Performance')\n",
    "    print(f'Average Error: {np.mean(errors):0.4f} degrees.')\n",
    "    print(f'Accuracy = {accuracy:0.2f}%.')\n",
    "    print(f'RMSE: {RMSE}')\n",
    "    return accuracy\n",
    "\n",
    "evaluate(model,X_test,y_test)"
   ]
  },
  {
   "cell_type": "code",
   "execution_count": null,
   "metadata": {},
   "outputs": [],
   "source": [
    "#y_pred_t = scaler.inverse_transform(y_train_pred)"
   ]
  },
  {
   "cell_type": "code",
   "execution_count": 156,
   "metadata": {},
   "outputs": [],
   "source": [
    "# from sklearn.metrics import mean_squared_error\n",
    "# RMSE = np.sqrt(mean_squared_error(y_train_pred, y_test, squared=False))\n",
    "# RMSE"
   ]
  },
  {
   "cell_type": "code",
   "execution_count": 186,
   "metadata": {},
   "outputs": [],
   "source": [
    "X_datos_test = df_test[['season','hr','temp','weekday','weathersit','workingday','hum','windspeed']]\n",
    "y_datos_pred = modelo_1.predict(X_datos_test)"
   ]
  },
  {
   "cell_type": "code",
   "execution_count": 187,
   "metadata": {},
   "outputs": [],
   "source": [
    "dataframe = pd.DataFrame(y_datos_pred)\n",
    "dataframe2 = dataframe.rename(columns={0:'pred'})\n",
    "# dataframe2['pred']=dataframe2['pred'].astype('int64')\n",
    "dataframe2.to_csv('luqui5.csv',index=False)\n",
    "#paso a dataframe y guardo a csv los datos para la entregaa"
   ]
  }
 ],
 "metadata": {
  "kernelspec": {
   "display_name": "Python 3.10.4 64-bit",
   "language": "python",
   "name": "python3"
  },
  "language_info": {
   "codemirror_mode": {
    "name": "ipython",
    "version": 3
   },
   "file_extension": ".py",
   "mimetype": "text/x-python",
   "name": "python",
   "nbconvert_exporter": "python",
   "pygments_lexer": "ipython3",
   "version": "3.10.4"
  },
  "orig_nbformat": 4,
  "vscode": {
   "interpreter": {
    "hash": "0f4aad36e1a7834f44c14e84b98527cfbefef55e7a336cfec74130d804d73c8f"
   }
  }
 },
 "nbformat": 4,
 "nbformat_minor": 2
}
